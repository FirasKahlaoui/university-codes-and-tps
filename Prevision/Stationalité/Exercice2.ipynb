{
 "cells": [
  {
   "cell_type": "code",
   "execution_count": 11,
   "metadata": {
    "vscode": {
     "languageId": "r"
    }
   },
   "outputs": [
    {
     "name": "stdout",
     "output_type": "stream",
     "text": [
      "ADF Test P-Values:\n",
      "var1: 0.04416789 \n",
      "var2: 0.03063591 \n",
      "var3: 0.02010764 \n",
      "$selection\n",
      "AIC(n)  HQ(n)  SC(n) FPE(n) \n",
      "     1      1      1      1 \n",
      "\n",
      "$criteria\n",
      "          1    2    3    4    5    6    7    8    9   10\n",
      "AIC(n) -Inf -Inf -Inf -Inf -Inf -Inf -Inf -Inf -Inf -Inf\n",
      "HQ(n)  -Inf -Inf -Inf -Inf -Inf -Inf -Inf -Inf -Inf -Inf\n",
      "SC(n)  -Inf -Inf -Inf -Inf -Inf -Inf -Inf -Inf -Inf -Inf\n",
      "FPE(n)    0    0    0    0    0    0    0    0    0    0\n",
      "\n"
     ]
    },
    {
     "data": {
      "text/plain": [
       "\n",
       "VAR Estimation Results:\n",
       "========================= \n",
       "Endogenous variables: var1, var2, var3 \n",
       "Deterministic variables: const \n",
       "Sample size: 11 \n",
       "Log Likelihood: -21.036 \n",
       "Roots of the characteristic polynomial:\n",
       "0.6107 0.6107 0.02007\n",
       "Call:\n",
       "VAR(y = var_data, p = optimal_lag)\n",
       "\n",
       "\n",
       "Estimation results for equation var1: \n",
       "===================================== \n",
       "var1 = var1.l1 + var2.l1 + var3.l1 + const \n",
       "\n",
       "        Estimate Std. Error t value Pr(>|t|)\n",
       "var1.l1   0.7242     0.5977   1.212    0.265\n",
       "var2.l1  -0.4322     0.6445  -0.670    0.524\n",
       "var3.l1  -1.6227     1.8684  -0.868    0.414\n",
       "const     1.4450     1.5061   0.959    0.369\n",
       "\n",
       "\n",
       "Residual standard error: 4.514 on 7 degrees of freedom\n",
       "Multiple R-Squared: 0.2987,\tAdjusted R-squared: -0.001786 \n",
       "F-statistic: 0.9941 on 3 and 7 DF,  p-value: 0.4494 \n",
       "\n",
       "\n",
       "Estimation results for equation var2: \n",
       "===================================== \n",
       "var2 = var1.l1 + var2.l1 + var3.l1 + const \n",
       "\n",
       "         Estimate Std. Error t value Pr(>|t|)    \n",
       "var1.l1  0.611402   0.007093  86.198 7.45e-12 ***\n",
       "var2.l1 -0.099487   0.007649 -13.006 3.70e-06 ***\n",
       "var3.l1 -0.026990   0.022174  -1.217    0.263    \n",
       "const   -0.016430   0.017873  -0.919    0.389    \n",
       "---\n",
       "Signif. codes:  0 '***' 0.001 '**' 0.01 '*' 0.05 '.' 0.1 ' ' 1\n",
       "\n",
       "\n",
       "Residual standard error: 0.05357 on 7 degrees of freedom\n",
       "Multiple R-Squared: 0.9998,\tAdjusted R-squared: 0.9997 \n",
       "F-statistic: 1.036e+04 on 3 and 7 DF,  p-value: 3.985e-13 \n",
       "\n",
       "\n",
       "Estimation results for equation var3: \n",
       "===================================== \n",
       "var3 = var1.l1 + var2.l1 + var3.l1 + const \n",
       "\n",
       "        Estimate Std. Error t value Pr(>|t|)\n",
       "var1.l1  0.16370    0.21946   0.746    0.480\n",
       "var2.l1 -0.05616    0.23667  -0.237    0.819\n",
       "var3.l1 -0.11768    0.68607  -0.172    0.869\n",
       "const    0.38004    0.55301   0.687    0.514\n",
       "\n",
       "\n",
       "Residual standard error: 1.657 on 7 degrees of freedom\n",
       "Multiple R-Squared: 0.1835,\tAdjusted R-squared: -0.1664 \n",
       "F-statistic: 0.5243 on 3 and 7 DF,  p-value: 0.6793 \n",
       "\n",
       "\n",
       "\n",
       "Covariance matrix of residuals:\n",
       "         var1     var2     var3\n",
       "var1 20.37310 0.074379 6.320014\n",
       "var2  0.07438 0.002869 0.006015\n",
       "var3  6.32001 0.006015 2.746869\n",
       "\n",
       "Correlation matrix of residuals:\n",
       "       var1    var2    var3\n",
       "var1 1.0000 0.30763 0.84483\n",
       "var2 0.3076 1.00000 0.06776\n",
       "var3 0.8448 0.06776 1.00000\n",
       "\n"
      ]
     },
     "metadata": {},
     "output_type": "display_data"
    },
    {
     "name": "stdout",
     "output_type": "stream",
     "text": [
      "\n",
      "P-Values of Residual Tests for Each Equation:\n",
      "\n",
      "Testing residuals for equation: var1 \n"
     ]
    },
    {
     "name": "stderr",
     "output_type": "stream",
     "text": [
      "Warning message in pf(rain, df[1], df[2], lower.tail = FALSE):\n",
      "\"NaNs produced\"\n"
     ]
    },
    {
     "name": "stdout",
     "output_type": "stream",
     "text": [
      "Raintest p-value: NaN NaN NaN Error NaN \n",
      "Durbin-Watson Test p-value: 0.3301547 \n",
      "Breusch-Pagan Test p-value: 0.4448296 \n",
      "Shapiro-Wilk Test p-value: 0.2270046 \n",
      "\n",
      "Testing residuals for equation: var2 \n"
     ]
    },
    {
     "name": "stderr",
     "output_type": "stream",
     "text": [
      "Warning message in pf(rain, df[1], df[2], lower.tail = FALSE):\n",
      "\"NaNs produced\"\n"
     ]
    },
    {
     "name": "stdout",
     "output_type": "stream",
     "text": [
      "Raintest p-value: NaN NaN NaN Error NaN \n",
      "Durbin-Watson Test p-value: 0.04741422 \n",
      "Breusch-Pagan Test p-value: 0.8315195 \n",
      "Shapiro-Wilk Test p-value: 0.4877728 \n",
      "\n",
      "Testing residuals for equation: var3 \n"
     ]
    },
    {
     "name": "stderr",
     "output_type": "stream",
     "text": [
      "Warning message in pf(rain, df[1], df[2], lower.tail = FALSE):\n",
      "\"NaNs produced\"\n"
     ]
    },
    {
     "name": "stdout",
     "output_type": "stream",
     "text": [
      "Raintest p-value: NaN NaN NaN Error NaN \n",
      "Durbin-Watson Test p-value: 0.2249827 \n",
      "Breusch-Pagan Test p-value: 0.6282716 \n",
      "Shapiro-Wilk Test p-value: 0.02029986 \n",
      "\n",
      "Short-term VAR Model Explanation for var3:\n"
     ]
    },
    {
     "data": {
      "text/plain": [
       "\n",
       "Call:\n",
       "lm(formula = y ~ -1 + ., data = datamat)\n",
       "\n",
       "Residuals:\n",
       "    Min      1Q  Median      3Q     Max \n",
       "-1.3510 -0.9498 -0.4705  0.4075  2.7969 \n",
       "\n",
       "Coefficients:\n",
       "        Estimate Std. Error t value Pr(>|t|)\n",
       "var1.l1  0.16370    0.21946   0.746    0.480\n",
       "var2.l1 -0.05616    0.23667  -0.237    0.819\n",
       "var3.l1 -0.11768    0.68607  -0.172    0.869\n",
       "const    0.38004    0.55301   0.687    0.514\n",
       "\n",
       "Residual standard error: 1.657 on 7 degrees of freedom\n",
       "Multiple R-squared:  0.1835,\tAdjusted R-squared:  -0.1664 \n",
       "F-statistic: 0.5243 on 3 and 7 DF,  p-value: 0.6793\n"
      ]
     },
     "metadata": {},
     "output_type": "display_data"
    }
   ],
   "source": [
    "# Load necessary libraries\n",
    "library(tseries)\n",
    "library(vars)\n",
    "library(lmtest)\n",
    "library(car)\n",
    "\n",
    "# Load the data\n",
    "data <- read.csv(\"./stationary_data.csv\")\n",
    "\n",
    "# Perform ADF tests on each variable\n",
    "adf_var1 <- adf.test(data$var1, alternative = \"stationary\")\n",
    "adf_var2 <- adf.test(data$var2, alternative = \"stationary\")\n",
    "adf_var3 <- adf.test(data$var3, alternative = \"stationary\")\n",
    "\n",
    "# Print p-values of ADF tests\n",
    "cat(\"ADF Test P-Values:\\n\")\n",
    "cat(\"var1:\", adf_var1$p.value, \"\\n\")\n",
    "cat(\"var2:\", adf_var2$p.value, \"\\n\")\n",
    "cat(\"var3:\", adf_var3$p.value, \"\\n\")\n",
    "\n",
    "# Prepare data for VAR model\n",
    "var_data <- data[, c(\"var1\", \"var2\", \"var3\")]\n",
    "\n",
    "# Select optimal lag\n",
    "lag_selection <- VARselect(var_data, lag.max = 10)\n",
    "print(lag_selection)\n",
    "optimal_lag <- lag_selection$selection[\"AIC(n)\"]\n",
    "\n",
    "# Fit the VAR model\n",
    "var_model <- VAR(var_data, p = optimal_lag)\n",
    "summary(var_model)\n",
    "\n",
    "# Extract residuals\n",
    "residuals <- residuals(var_model)\n",
    "\n",
    "# Apply tests to each equation in the VAR model\n",
    "cat(\"\\nP-Values of Residual Tests for Each Equation:\\n\")\n",
    "\n",
    "# Loop through each equation\n",
    "for (var in names(var_model$varresult)) {\n",
    "  cat(\"\\nTesting residuals for equation:\", var, \"\\n\")\n",
    "  \n",
    "  # Extract the sub-model (equation) as a linear model\n",
    "  equation <- var_model$varresult[[var]]\n",
    "  \n",
    "  # 1. Raintest (linearity)\n",
    "  raintest_result <- tryCatch(raintest(equation), error = function(e) NA)\n",
    "  cat(\"Raintest p-value:\", ifelse(is.na(raintest_result), \"Error\", raintest_result$p.value), \"\\n\")\n",
    "  \n",
    "  # 2. Durbin-Watson Test (autocorrelation)\n",
    "  dw_test <- dwtest(equation)\n",
    "  cat(\"Durbin-Watson Test p-value:\", dw_test$p.value, \"\\n\")\n",
    "  \n",
    "  # 3. Breusch-Pagan Test (heteroscedasticity)\n",
    "  bp_test <- bptest(equation)\n",
    "  cat(\"Breusch-Pagan Test p-value:\", bp_test$p.value, \"\\n\")\n",
    "  \n",
    "  # 4. Shapiro-Wilk Test (normality of residuals)\n",
    "  eq_residuals <- residuals[, var]\n",
    "  shapiro_test <- shapiro.test(eq_residuals)\n",
    "  cat(\"Shapiro-Wilk Test p-value:\", shapiro_test$p.value, \"\\n\")\n",
    "}\n",
    "\n",
    "# Explain var3 in terms of var1 and var2 using the VAR model\n",
    "cat(\"\\nShort-term VAR Model Explanation for var3:\\n\")\n",
    "var3_equation <- var_model$varresult$var3\n",
    "summary(var3_equation)"
   ]
  },
  {
   "cell_type": "code",
   "execution_count": 13,
   "metadata": {
    "vscode": {
     "languageId": "r"
    }
   },
   "outputs": [
    {
     "name": "stdout",
     "output_type": "stream",
     "text": [
      "\n",
      "Prediction for the next period:\n"
     ]
    },
    {
     "name": "stdout",
     "output_type": "stream",
     "text": [
      "$var1\n",
      "          fcst     lower     upper        CI\n",
      "[1,] 1.1803319 -7.666274 10.026938  8.846606\n",
      "[2,] 0.3060844 -9.174920  9.787089  9.481005\n",
      "[3,] 0.8409995 -9.165647 10.847646 10.006646\n",
      "[4,] 1.4244552 -8.793691 11.642602 10.218146\n",
      "[5,] 1.5090242 -8.735515 11.753564 10.244540\n",
      "\n",
      "$var2\n",
      "          fcst     lower    upper        CI\n",
      "[1,] 2.0007860  1.895797 2.105775 0.1049888\n",
      "[2,] 0.4873962 -4.845373 5.820165 5.3327691\n",
      "[3,] 0.1119921 -5.521439 5.745424 5.6334315\n",
      "[4,] 0.4769505 -5.474915 6.428816 5.9518651\n",
      "[5,] 0.7943696 -5.257574 6.846313 6.0519437\n",
      "\n",
      "$var3\n",
      "          fcst     lower    upper       CI\n",
      "[1,] 0.6958210 -2.552561 3.944203 3.248382\n",
      "[2,] 0.3790132 -3.064102 3.822128 3.443115\n",
      "[3,] 0.3581745 -3.113907 3.830256 3.472081\n",
      "[4,] 0.4692755 -3.036481 3.975032 3.505756\n",
      "[5,] 0.5312163 -2.980800 4.043233 3.512016\n",
      "\n"
     ]
    }
   ],
   "source": [
    "# Make a prediction using the VAR model\n",
    "pred <- predict(var_model, n.ahead = 5)\n",
    "cat(\"\\nPrediction for the next period:\\n\")\n",
    "print(pred)"
   ]
  }
 ],
 "metadata": {
  "kernelspec": {
   "display_name": "R",
   "language": "R",
   "name": "ir"
  },
  "language_info": {
   "codemirror_mode": "r",
   "file_extension": ".r",
   "mimetype": "text/x-r-source",
   "name": "R",
   "pygments_lexer": "r",
   "version": "4.4.1"
  }
 },
 "nbformat": 4,
 "nbformat_minor": 2
}
