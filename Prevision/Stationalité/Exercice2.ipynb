{
 "cells": [
  {
   "cell_type": "code",
   "execution_count": 1,
   "metadata": {
    "vscode": {
     "languageId": "r"
    }
   },
   "outputs": [
    {
     "name": "stderr",
     "output_type": "stream",
     "text": [
      "Warning message:\n",
      "\"package 'tseries' was built under R version 4.4.2\"\n",
      "Registered S3 method overwritten by 'quantmod':\n",
      "  method            from\n",
      "  as.zoo.data.frame zoo \n",
      "\n"
     ]
    }
   ],
   "source": [
    "library(tseries)"
   ]
  },
  {
   "cell_type": "code",
   "execution_count": 2,
   "metadata": {
    "vscode": {
     "languageId": "r"
    }
   },
   "outputs": [
    {
     "data": {
      "text/html": [
       "<table class=\"dataframe\">\n",
       "<caption>A data.frame: 12 × 3</caption>\n",
       "<thead>\n",
       "\t<tr><th scope=col>var1</th><th scope=col>var2</th><th scope=col>var3</th></tr>\n",
       "\t<tr><th scope=col>&lt;dbl&gt;</th><th scope=col>&lt;dbl&gt;</th><th scope=col>&lt;dbl&gt;</th></tr>\n",
       "</thead>\n",
       "<tbody>\n",
       "\t<tr><td> 8.778324</td><td> 0.4549183</td><td> 3.14660311</td></tr>\n",
       "\t<tr><td> 4.060246</td><td> 5.1906868</td><td> 3.67456524</td></tr>\n",
       "\t<tr><td>-5.513257</td><td> 1.9018173</td><td>-0.77639107</td></tr>\n",
       "\t<tr><td>-4.536916</td><td>-3.6050020</td><td>-1.11632610</td></tr>\n",
       "\t<tr><td>-3.135693</td><td>-2.4210588</td><td>-1.37984115</td></tr>\n",
       "\t<tr><td> 5.493270</td><td>-1.5790918</td><td> 1.00799378</td></tr>\n",
       "\t<tr><td> 2.897723</td><td> 3.5143362</td><td> 0.23645938</td></tr>\n",
       "\t<tr><td> 2.583402</td><td> 1.4308751</td><td> 0.60122078</td></tr>\n",
       "\t<tr><td> 1.070094</td><td> 1.3454019</td><td> 0.18339480</td></tr>\n",
       "\t<tr><td>-2.565187</td><td> 0.4665883</td><td>-0.01238299</td></tr>\n",
       "\t<tr><td> 8.421528</td><td>-1.6208646</td><td> 2.73225137</td></tr>\n",
       "\t<tr><td> 4.173558</td><td> 5.1986530</td><td> 0.64135858</td></tr>\n",
       "</tbody>\n",
       "</table>\n"
      ],
      "text/latex": [
       "A data.frame: 12 × 3\n",
       "\\begin{tabular}{lll}\n",
       " var1 & var2 & var3\\\\\n",
       " <dbl> & <dbl> & <dbl>\\\\\n",
       "\\hline\n",
       "\t  8.778324 &  0.4549183 &  3.14660311\\\\\n",
       "\t  4.060246 &  5.1906868 &  3.67456524\\\\\n",
       "\t -5.513257 &  1.9018173 & -0.77639107\\\\\n",
       "\t -4.536916 & -3.6050020 & -1.11632610\\\\\n",
       "\t -3.135693 & -2.4210588 & -1.37984115\\\\\n",
       "\t  5.493270 & -1.5790918 &  1.00799378\\\\\n",
       "\t  2.897723 &  3.5143362 &  0.23645938\\\\\n",
       "\t  2.583402 &  1.4308751 &  0.60122078\\\\\n",
       "\t  1.070094 &  1.3454019 &  0.18339480\\\\\n",
       "\t -2.565187 &  0.4665883 & -0.01238299\\\\\n",
       "\t  8.421528 & -1.6208646 &  2.73225137\\\\\n",
       "\t  4.173558 &  5.1986530 &  0.64135858\\\\\n",
       "\\end{tabular}\n"
      ],
      "text/markdown": [
       "\n",
       "A data.frame: 12 × 3\n",
       "\n",
       "| var1 &lt;dbl&gt; | var2 &lt;dbl&gt; | var3 &lt;dbl&gt; |\n",
       "|---|---|---|\n",
       "|  8.778324 |  0.4549183 |  3.14660311 |\n",
       "|  4.060246 |  5.1906868 |  3.67456524 |\n",
       "| -5.513257 |  1.9018173 | -0.77639107 |\n",
       "| -4.536916 | -3.6050020 | -1.11632610 |\n",
       "| -3.135693 | -2.4210588 | -1.37984115 |\n",
       "|  5.493270 | -1.5790918 |  1.00799378 |\n",
       "|  2.897723 |  3.5143362 |  0.23645938 |\n",
       "|  2.583402 |  1.4308751 |  0.60122078 |\n",
       "|  1.070094 |  1.3454019 |  0.18339480 |\n",
       "| -2.565187 |  0.4665883 | -0.01238299 |\n",
       "|  8.421528 | -1.6208646 |  2.73225137 |\n",
       "|  4.173558 |  5.1986530 |  0.64135858 |\n",
       "\n"
      ],
      "text/plain": [
       "   var1      var2       var3       \n",
       "1   8.778324  0.4549183  3.14660311\n",
       "2   4.060246  5.1906868  3.67456524\n",
       "3  -5.513257  1.9018173 -0.77639107\n",
       "4  -4.536916 -3.6050020 -1.11632610\n",
       "5  -3.135693 -2.4210588 -1.37984115\n",
       "6   5.493270 -1.5790918  1.00799378\n",
       "7   2.897723  3.5143362  0.23645938\n",
       "8   2.583402  1.4308751  0.60122078\n",
       "9   1.070094  1.3454019  0.18339480\n",
       "10 -2.565187  0.4665883 -0.01238299\n",
       "11  8.421528 -1.6208646  2.73225137\n",
       "12  4.173558  5.1986530  0.64135858"
      ]
     },
     "metadata": {},
     "output_type": "display_data"
    }
   ],
   "source": [
    "data <- read.csv(\"./stationary_data.csv\")\n",
    "data"
   ]
  },
  {
   "cell_type": "code",
   "execution_count": 3,
   "metadata": {
    "vscode": {
     "languageId": "r"
    }
   },
   "outputs": [
    {
     "data": {
      "text/plain": [
       "\n",
       "\tAugmented Dickey-Fuller Test\n",
       "\n",
       "data:  data$var1\n",
       "Dickey-Fuller = -3.6816, Lag order = 2, p-value = 0.04417\n",
       "alternative hypothesis: stationary\n"
      ]
     },
     "metadata": {},
     "output_type": "display_data"
    },
    {
     "data": {
      "text/plain": [
       "\n",
       "\tAugmented Dickey-Fuller Test\n",
       "\n",
       "data:  data$var2\n",
       "Dickey-Fuller = -3.8711, Lag order = 2, p-value = 0.03064\n",
       "alternative hypothesis: stationary\n"
      ]
     },
     "metadata": {},
     "output_type": "display_data"
    },
    {
     "data": {
      "text/plain": [
       "\n",
       "\tAugmented Dickey-Fuller Test\n",
       "\n",
       "data:  data$var3\n",
       "Dickey-Fuller = -4.0902, Lag order = 2, p-value = 0.02011\n",
       "alternative hypothesis: stationary\n"
      ]
     },
     "metadata": {},
     "output_type": "display_data"
    }
   ],
   "source": [
    "adf_var1 <- adf.test(data$var1, alternative = \"stationary\")\n",
    "adf_var2 <- adf.test(data$var2, alternative = \"stationary\")\n",
    "adf_var3 <- adf.test(data$var3, alternative = \"stationary\")\n",
    "\n",
    "adf_var1\n",
    "adf_var2\n",
    "adf_var3"
   ]
  },
  {
   "cell_type": "code",
   "execution_count": null,
   "metadata": {
    "vscode": {
     "languageId": "r"
    }
   },
   "outputs": [],
   "source": []
  }
 ],
 "metadata": {
  "kernelspec": {
   "display_name": "R",
   "language": "R",
   "name": "ir"
  },
  "language_info": {
   "codemirror_mode": "r",
   "file_extension": ".r",
   "mimetype": "text/x-r-source",
   "name": "R",
   "pygments_lexer": "r",
   "version": "4.4.1"
  }
 },
 "nbformat": 4,
 "nbformat_minor": 2
}
