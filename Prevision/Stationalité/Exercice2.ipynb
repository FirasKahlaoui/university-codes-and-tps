{
 "cells": [
  {
   "cell_type": "code",
   "execution_count": 7,
   "metadata": {
    "vscode": {
     "languageId": "r"
    }
   },
   "outputs": [],
   "source": [
    "library(tseries)\n",
    "library(vars)\n"
   ]
  },
  {
   "cell_type": "code",
   "execution_count": 2,
   "metadata": {
    "vscode": {
     "languageId": "r"
    }
   },
   "outputs": [
    {
     "data": {
      "text/html": [
       "<table class=\"dataframe\">\n",
       "<caption>A data.frame: 12 × 3</caption>\n",
       "<thead>\n",
       "\t<tr><th scope=col>var1</th><th scope=col>var2</th><th scope=col>var3</th></tr>\n",
       "\t<tr><th scope=col>&lt;dbl&gt;</th><th scope=col>&lt;dbl&gt;</th><th scope=col>&lt;dbl&gt;</th></tr>\n",
       "</thead>\n",
       "<tbody>\n",
       "\t<tr><td> 8.778324</td><td> 0.4549183</td><td> 3.14660311</td></tr>\n",
       "\t<tr><td> 4.060246</td><td> 5.1906868</td><td> 3.67456524</td></tr>\n",
       "\t<tr><td>-5.513257</td><td> 1.9018173</td><td>-0.77639107</td></tr>\n",
       "\t<tr><td>-4.536916</td><td>-3.6050020</td><td>-1.11632610</td></tr>\n",
       "\t<tr><td>-3.135693</td><td>-2.4210588</td><td>-1.37984115</td></tr>\n",
       "\t<tr><td> 5.493270</td><td>-1.5790918</td><td> 1.00799378</td></tr>\n",
       "\t<tr><td> 2.897723</td><td> 3.5143362</td><td> 0.23645938</td></tr>\n",
       "\t<tr><td> 2.583402</td><td> 1.4308751</td><td> 0.60122078</td></tr>\n",
       "\t<tr><td> 1.070094</td><td> 1.3454019</td><td> 0.18339480</td></tr>\n",
       "\t<tr><td>-2.565187</td><td> 0.4665883</td><td>-0.01238299</td></tr>\n",
       "\t<tr><td> 8.421528</td><td>-1.6208646</td><td> 2.73225137</td></tr>\n",
       "\t<tr><td> 4.173558</td><td> 5.1986530</td><td> 0.64135858</td></tr>\n",
       "</tbody>\n",
       "</table>\n"
      ],
      "text/latex": [
       "A data.frame: 12 × 3\n",
       "\\begin{tabular}{lll}\n",
       " var1 & var2 & var3\\\\\n",
       " <dbl> & <dbl> & <dbl>\\\\\n",
       "\\hline\n",
       "\t  8.778324 &  0.4549183 &  3.14660311\\\\\n",
       "\t  4.060246 &  5.1906868 &  3.67456524\\\\\n",
       "\t -5.513257 &  1.9018173 & -0.77639107\\\\\n",
       "\t -4.536916 & -3.6050020 & -1.11632610\\\\\n",
       "\t -3.135693 & -2.4210588 & -1.37984115\\\\\n",
       "\t  5.493270 & -1.5790918 &  1.00799378\\\\\n",
       "\t  2.897723 &  3.5143362 &  0.23645938\\\\\n",
       "\t  2.583402 &  1.4308751 &  0.60122078\\\\\n",
       "\t  1.070094 &  1.3454019 &  0.18339480\\\\\n",
       "\t -2.565187 &  0.4665883 & -0.01238299\\\\\n",
       "\t  8.421528 & -1.6208646 &  2.73225137\\\\\n",
       "\t  4.173558 &  5.1986530 &  0.64135858\\\\\n",
       "\\end{tabular}\n"
      ],
      "text/markdown": [
       "\n",
       "A data.frame: 12 × 3\n",
       "\n",
       "| var1 &lt;dbl&gt; | var2 &lt;dbl&gt; | var3 &lt;dbl&gt; |\n",
       "|---|---|---|\n",
       "|  8.778324 |  0.4549183 |  3.14660311 |\n",
       "|  4.060246 |  5.1906868 |  3.67456524 |\n",
       "| -5.513257 |  1.9018173 | -0.77639107 |\n",
       "| -4.536916 | -3.6050020 | -1.11632610 |\n",
       "| -3.135693 | -2.4210588 | -1.37984115 |\n",
       "|  5.493270 | -1.5790918 |  1.00799378 |\n",
       "|  2.897723 |  3.5143362 |  0.23645938 |\n",
       "|  2.583402 |  1.4308751 |  0.60122078 |\n",
       "|  1.070094 |  1.3454019 |  0.18339480 |\n",
       "| -2.565187 |  0.4665883 | -0.01238299 |\n",
       "|  8.421528 | -1.6208646 |  2.73225137 |\n",
       "|  4.173558 |  5.1986530 |  0.64135858 |\n",
       "\n"
      ],
      "text/plain": [
       "   var1      var2       var3       \n",
       "1   8.778324  0.4549183  3.14660311\n",
       "2   4.060246  5.1906868  3.67456524\n",
       "3  -5.513257  1.9018173 -0.77639107\n",
       "4  -4.536916 -3.6050020 -1.11632610\n",
       "5  -3.135693 -2.4210588 -1.37984115\n",
       "6   5.493270 -1.5790918  1.00799378\n",
       "7   2.897723  3.5143362  0.23645938\n",
       "8   2.583402  1.4308751  0.60122078\n",
       "9   1.070094  1.3454019  0.18339480\n",
       "10 -2.565187  0.4665883 -0.01238299\n",
       "11  8.421528 -1.6208646  2.73225137\n",
       "12  4.173558  5.1986530  0.64135858"
      ]
     },
     "metadata": {},
     "output_type": "display_data"
    }
   ],
   "source": [
    "data <- read.csv(\"./stationary_data.csv\")\n",
    "data"
   ]
  },
  {
   "cell_type": "code",
   "execution_count": 3,
   "metadata": {
    "vscode": {
     "languageId": "r"
    }
   },
   "outputs": [
    {
     "data": {
      "text/plain": [
       "\n",
       "\tAugmented Dickey-Fuller Test\n",
       "\n",
       "data:  data$var1\n",
       "Dickey-Fuller = -3.6816, Lag order = 2, p-value = 0.04417\n",
       "alternative hypothesis: stationary\n"
      ]
     },
     "metadata": {},
     "output_type": "display_data"
    },
    {
     "data": {
      "text/plain": [
       "\n",
       "\tAugmented Dickey-Fuller Test\n",
       "\n",
       "data:  data$var2\n",
       "Dickey-Fuller = -3.8711, Lag order = 2, p-value = 0.03064\n",
       "alternative hypothesis: stationary\n"
      ]
     },
     "metadata": {},
     "output_type": "display_data"
    },
    {
     "data": {
      "text/plain": [
       "\n",
       "\tAugmented Dickey-Fuller Test\n",
       "\n",
       "data:  data$var3\n",
       "Dickey-Fuller = -4.0902, Lag order = 2, p-value = 0.02011\n",
       "alternative hypothesis: stationary\n"
      ]
     },
     "metadata": {},
     "output_type": "display_data"
    }
   ],
   "source": [
    "adf_var1 <- adf.test(data$var1, alternative = \"stationary\")\n",
    "adf_var2 <- adf.test(data$var2, alternative = \"stationary\")\n",
    "adf_var3 <- adf.test(data$var3, alternative = \"stationary\")\n",
    "\n",
    "adf_var1\n",
    "adf_var2\n",
    "adf_var3"
   ]
  },
  {
   "cell_type": "code",
   "execution_count": null,
   "metadata": {
    "vscode": {
     "languageId": "r"
    }
   },
   "outputs": [],
   "source": [
    "var_data <- data[, c(\"var1\", \"var2\", \"var3\")]"
   ]
  },
  {
   "cell_type": "code",
   "execution_count": 9,
   "metadata": {
    "vscode": {
     "languageId": "r"
    }
   },
   "outputs": [
    {
     "name": "stdout",
     "output_type": "stream",
     "text": [
      "$selection\n",
      "AIC(n)  HQ(n)  SC(n) FPE(n) \n",
      "     1      1      1      1 \n",
      "\n",
      "$criteria\n",
      "          1    2    3    4    5    6    7    8    9   10\n",
      "AIC(n) -Inf -Inf -Inf -Inf -Inf -Inf -Inf -Inf -Inf -Inf\n",
      "HQ(n)  -Inf -Inf -Inf -Inf -Inf -Inf -Inf -Inf -Inf -Inf\n",
      "SC(n)  -Inf -Inf -Inf -Inf -Inf -Inf -Inf -Inf -Inf -Inf\n",
      "FPE(n)    0    0    0    0    0    0    0    0    0    0\n",
      "\n"
     ]
    }
   ],
   "source": [
    "lag_selection <- VARselect(var_data, lag.max = 10, type = \"const\")\n",
    "print(lag_selection)\n",
    "optimal_lag <- lag_selection$selection[\"AIC(n)\"]  "
   ]
  },
  {
   "cell_type": "code",
   "execution_count": 10,
   "metadata": {
    "vscode": {
     "languageId": "r"
    }
   },
   "outputs": [
    {
     "data": {
      "text/plain": [
       "\n",
       "VAR Estimation Results:\n",
       "========================= \n",
       "Endogenous variables: var1, var2, var3 \n",
       "Deterministic variables: const \n",
       "Sample size: 11 \n",
       "Log Likelihood: -21.036 \n",
       "Roots of the characteristic polynomial:\n",
       "0.6107 0.6107 0.02007\n",
       "Call:\n",
       "VAR(y = var_data, p = optimal_lag, type = \"const\")\n",
       "\n",
       "\n",
       "Estimation results for equation var1: \n",
       "===================================== \n",
       "var1 = var1.l1 + var2.l1 + var3.l1 + const \n",
       "\n",
       "        Estimate Std. Error t value Pr(>|t|)\n",
       "var1.l1   0.7242     0.5977   1.212    0.265\n",
       "var2.l1  -0.4322     0.6445  -0.670    0.524\n",
       "var3.l1  -1.6227     1.8684  -0.868    0.414\n",
       "const     1.4450     1.5061   0.959    0.369\n",
       "\n",
       "\n",
       "Residual standard error: 4.514 on 7 degrees of freedom\n",
       "Multiple R-Squared: 0.2987,\tAdjusted R-squared: -0.001786 \n",
       "F-statistic: 0.9941 on 3 and 7 DF,  p-value: 0.4494 \n",
       "\n",
       "\n",
       "Estimation results for equation var2: \n",
       "===================================== \n",
       "var2 = var1.l1 + var2.l1 + var3.l1 + const \n",
       "\n",
       "         Estimate Std. Error t value Pr(>|t|)    \n",
       "var1.l1  0.611402   0.007093  86.198 7.45e-12 ***\n",
       "var2.l1 -0.099487   0.007649 -13.006 3.70e-06 ***\n",
       "var3.l1 -0.026990   0.022174  -1.217    0.263    \n",
       "const   -0.016430   0.017873  -0.919    0.389    \n",
       "---\n",
       "Signif. codes:  0 '***' 0.001 '**' 0.01 '*' 0.05 '.' 0.1 ' ' 1\n",
       "\n",
       "\n",
       "Residual standard error: 0.05357 on 7 degrees of freedom\n",
       "Multiple R-Squared: 0.9998,\tAdjusted R-squared: 0.9997 \n",
       "F-statistic: 1.036e+04 on 3 and 7 DF,  p-value: 3.985e-13 \n",
       "\n",
       "\n",
       "Estimation results for equation var3: \n",
       "===================================== \n",
       "var3 = var1.l1 + var2.l1 + var3.l1 + const \n",
       "\n",
       "        Estimate Std. Error t value Pr(>|t|)\n",
       "var1.l1  0.16370    0.21946   0.746    0.480\n",
       "var2.l1 -0.05616    0.23667  -0.237    0.819\n",
       "var3.l1 -0.11768    0.68607  -0.172    0.869\n",
       "const    0.38004    0.55301   0.687    0.514\n",
       "\n",
       "\n",
       "Residual standard error: 1.657 on 7 degrees of freedom\n",
       "Multiple R-Squared: 0.1835,\tAdjusted R-squared: -0.1664 \n",
       "F-statistic: 0.5243 on 3 and 7 DF,  p-value: 0.6793 \n",
       "\n",
       "\n",
       "\n",
       "Covariance matrix of residuals:\n",
       "         var1     var2     var3\n",
       "var1 20.37310 0.074379 6.320014\n",
       "var2  0.07438 0.002869 0.006015\n",
       "var3  6.32001 0.006015 2.746869\n",
       "\n",
       "Correlation matrix of residuals:\n",
       "       var1    var2    var3\n",
       "var1 1.0000 0.30763 0.84483\n",
       "var2 0.3076 1.00000 0.06776\n",
       "var3 0.8448 0.06776 1.00000\n",
       "\n"
      ]
     },
     "metadata": {},
     "output_type": "display_data"
    }
   ],
   "source": [
    "var_model <- VAR(var_data, p = optimal_lag, type = \"const\")\n",
    "summary(var_model)\n"
   ]
  }
 ],
 "metadata": {
  "kernelspec": {
   "display_name": "R",
   "language": "R",
   "name": "ir"
  },
  "language_info": {
   "codemirror_mode": "r",
   "file_extension": ".r",
   "mimetype": "text/x-r-source",
   "name": "R",
   "pygments_lexer": "r",
   "version": "4.4.1"
  }
 },
 "nbformat": 4,
 "nbformat_minor": 2
}
