{
 "cells": [
  {
   "cell_type": "code",
   "execution_count": 1,
   "metadata": {
    "vscode": {
     "languageId": "r"
    }
   },
   "outputs": [
    {
     "name": "stderr",
     "output_type": "stream",
     "text": [
      "Installing package into 'C:/Users/Kahla/AppData/Local/R/win-library/4.4'\n",
      "(as 'lib' is unspecified)\n",
      "\n",
      "also installing the dependencies 'xts', 'TTR', 'curl', 'quadprog', 'quantmod'\n",
      "\n",
      "\n"
     ]
    },
    {
     "name": "stdout",
     "output_type": "stream",
     "text": [
      "package 'xts' successfully unpacked and MD5 sums checked\n",
      "package 'TTR' successfully unpacked and MD5 sums checked\n",
      "package 'curl' successfully unpacked and MD5 sums checked\n",
      "package 'quadprog' successfully unpacked and MD5 sums checked\n",
      "package 'quantmod' successfully unpacked and MD5 sums checked\n",
      "package 'tseries' successfully unpacked and MD5 sums checked\n",
      "\n",
      "The downloaded binary packages are in\n",
      "\tC:\\Users\\Kahla\\AppData\\Local\\Temp\\RtmpcrqlKq\\downloaded_packages\n"
     ]
    },
    {
     "name": "stderr",
     "output_type": "stream",
     "text": [
      "Warning message:\n",
      "\"package 'tseries' was built under R version 4.4.2\"\n",
      "Registered S3 method overwritten by 'quantmod':\n",
      "  method            from\n",
      "  as.zoo.data.frame zoo \n",
      "\n"
     ]
    }
   ],
   "source": [
    "install.packages(\"tseries\")\n",
    "library(tseries)\n"
   ]
  },
  {
   "cell_type": "code",
   "execution_count": null,
   "metadata": {
    "vscode": {
     "languageId": "r"
    }
   },
   "outputs": [
    {
     "data": {
      "text/html": [
       "<table class=\"dataframe\">\n",
       "<caption>A data.frame: 10 × 5</caption>\n",
       "<thead>\n",
       "\t<tr><th scope=col>temp</th><th scope=col>Xt</th><th scope=col>Yt</th><th scope=col>Zt</th><th scope=col>Ht</th></tr>\n",
       "\t<tr><th scope=col>&lt;dbl&gt;</th><th scope=col>&lt;dbl&gt;</th><th scope=col>&lt;dbl&gt;</th><th scope=col>&lt;dbl&gt;</th><th scope=col>&lt;dbl&gt;</th></tr>\n",
       "</thead>\n",
       "<tbody>\n",
       "\t<tr><td>2005</td><td>10</td><td>22</td><td>15</td><td>14</td></tr>\n",
       "\t<tr><td>2006</td><td>12</td><td>13</td><td>14</td><td>13</td></tr>\n",
       "\t<tr><td>2007</td><td>16</td><td>27</td><td>18</td><td>25</td></tr>\n",
       "\t<tr><td>2008</td><td>17</td><td>15</td><td>14</td><td>15</td></tr>\n",
       "\t<tr><td>2009</td><td>19</td><td>10</td><td>16</td><td>17</td></tr>\n",
       "\t<tr><td>2010</td><td>20</td><td> 6</td><td>18</td><td>19</td></tr>\n",
       "\t<tr><td>2011</td><td>23</td><td>18</td><td>20</td><td>22</td></tr>\n",
       "\t<tr><td>2012</td><td>18</td><td> 9</td><td>22</td><td>20</td></tr>\n",
       "\t<tr><td>2013</td><td>15</td><td>17</td><td>14</td><td>16</td></tr>\n",
       "\t<tr><td>2014</td><td>11</td><td>12</td><td>16</td><td>14</td></tr>\n",
       "</tbody>\n",
       "</table>\n"
      ],
      "text/latex": [
       "A data.frame: 10 × 5\n",
       "\\begin{tabular}{lllll}\n",
       " temp & Xt & Yt & Zt & Ht\\\\\n",
       " <dbl> & <dbl> & <dbl> & <dbl> & <dbl>\\\\\n",
       "\\hline\n",
       "\t 2005 & 10 & 22 & 15 & 14\\\\\n",
       "\t 2006 & 12 & 13 & 14 & 13\\\\\n",
       "\t 2007 & 16 & 27 & 18 & 25\\\\\n",
       "\t 2008 & 17 & 15 & 14 & 15\\\\\n",
       "\t 2009 & 19 & 10 & 16 & 17\\\\\n",
       "\t 2010 & 20 &  6 & 18 & 19\\\\\n",
       "\t 2011 & 23 & 18 & 20 & 22\\\\\n",
       "\t 2012 & 18 &  9 & 22 & 20\\\\\n",
       "\t 2013 & 15 & 17 & 14 & 16\\\\\n",
       "\t 2014 & 11 & 12 & 16 & 14\\\\\n",
       "\\end{tabular}\n"
      ],
      "text/markdown": [
       "\n",
       "A data.frame: 10 × 5\n",
       "\n",
       "| temp &lt;dbl&gt; | Xt &lt;dbl&gt; | Yt &lt;dbl&gt; | Zt &lt;dbl&gt; | Ht &lt;dbl&gt; |\n",
       "|---|---|---|---|---|\n",
       "| 2005 | 10 | 22 | 15 | 14 |\n",
       "| 2006 | 12 | 13 | 14 | 13 |\n",
       "| 2007 | 16 | 27 | 18 | 25 |\n",
       "| 2008 | 17 | 15 | 14 | 15 |\n",
       "| 2009 | 19 | 10 | 16 | 17 |\n",
       "| 2010 | 20 |  6 | 18 | 19 |\n",
       "| 2011 | 23 | 18 | 20 | 22 |\n",
       "| 2012 | 18 |  9 | 22 | 20 |\n",
       "| 2013 | 15 | 17 | 14 | 16 |\n",
       "| 2014 | 11 | 12 | 16 | 14 |\n",
       "\n"
      ],
      "text/plain": [
       "   temp Xt Yt Zt Ht\n",
       "1  2005 10 22 15 14\n",
       "2  2006 12 13 14 13\n",
       "3  2007 16 27 18 25\n",
       "4  2008 17 15 14 15\n",
       "5  2009 19 10 16 17\n",
       "6  2010 20  6 18 19\n",
       "7  2011 23 18 20 22\n",
       "8  2012 18  9 22 20\n",
       "9  2013 15 17 14 16\n",
       "10 2014 11 12 16 14"
      ]
     },
     "metadata": {},
     "output_type": "display_data"
    }
   ],
   "source": [
    "# Creating the data frame\n",
    "data <- data.frame(\n",
    "  temp = c(2005, 2006, 2007, 2008, 2009, 2010, 2011, 2012, 2013, 2014),\n",
    "  Xt = c(10, 12, 16, 17, 19, 20, 23, 18, 15, 11),\n",
    "  Yt = c(22, 13, 27, 15, 10, 6, 18, 9, 17, 12),\n",
    "  Zt = c(15, 14, 18, 14, 16, 18, 20, 22, 14, 16),\n",
    "  Ht = c(14, 13, 25, 15, 17, 19, 22, 20, 16, 14)\n",
    ")\n",
    "\n",
    "data"
   ]
  },
  {
   "cell_type": "code",
   "execution_count": null,
   "metadata": {
    "vscode": {
     "languageId": "r"
    }
   },
   "outputs": [
    {
     "name": "stderr",
     "output_type": "stream",
     "text": [
      "Warning message in adf.test(data$Xt, alternative = \"stationary\"):\n",
      "\"p-value greater than printed p-value\"\n"
     ]
    },
    {
     "data": {
      "text/plain": [
       "\n",
       "\tAugmented Dickey-Fuller Test\n",
       "\n",
       "data:  data$Xt\n",
       "Dickey-Fuller = 0.85907, Lag order = 2, p-value = 0.99\n",
       "alternative hypothesis: stationary\n"
      ]
     },
     "metadata": {},
     "output_type": "display_data"
    },
    {
     "data": {
      "text/plain": [
       "\n",
       "\tAugmented Dickey-Fuller Test\n",
       "\n",
       "data:  data$Yt\n",
       "Dickey-Fuller = -1.5935, Lag order = 2, p-value = 0.7272\n",
       "alternative hypothesis: stationary\n"
      ]
     },
     "metadata": {},
     "output_type": "display_data"
    },
    {
     "data": {
      "text/plain": [
       "\n",
       "\tAugmented Dickey-Fuller Test\n",
       "\n",
       "data:  data$Zt\n",
       "Dickey-Fuller = -2.4663, Lag order = 2, p-value = 0.3947\n",
       "alternative hypothesis: stationary\n"
      ]
     },
     "metadata": {},
     "output_type": "display_data"
    },
    {
     "data": {
      "text/plain": [
       "\n",
       "\tAugmented Dickey-Fuller Test\n",
       "\n",
       "data:  data$Ht\n",
       "Dickey-Fuller = -0.92042, Lag order = 2, p-value = 0.9323\n",
       "alternative hypothesis: stationary\n"
      ]
     },
     "metadata": {},
     "output_type": "display_data"
    }
   ],
   "source": [
    "# Ditkey-Fuller test for each time series\n",
    "adf_Xt <- adf.test(data$Xt, alternative = \"stationary\")\n",
    "adf_Yt <- adf.test(data$Yt, alternative = \"stationary\")\n",
    "adf_Zt <- adf.test(data$Zt, alternative = \"stationary\")\n",
    "adf_Ht <- adf.test(data$Ht, alternative = \"stationary\")\n",
    "\n",
    "# Print the results\n",
    "adf_Xt\n",
    "adf_Yt\n",
    "adf_Zt\n",
    "adf_Ht"
   ]
  }
 ],
 "metadata": {
  "kernelspec": {
   "display_name": "R",
   "language": "R",
   "name": "ir"
  },
  "language_info": {
   "codemirror_mode": "r",
   "file_extension": ".r",
   "mimetype": "text/x-r-source",
   "name": "R",
   "pygments_lexer": "r",
   "version": "4.4.1"
  }
 },
 "nbformat": 4,
 "nbformat_minor": 2
}
