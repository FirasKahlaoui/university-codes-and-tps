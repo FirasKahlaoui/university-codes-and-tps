{
 "cells": [
  {
   "cell_type": "code",
   "execution_count": 1,
   "metadata": {
    "vscode": {
     "languageId": "r"
    }
   },
   "outputs": [
    {
     "name": "stderr",
     "output_type": "stream",
     "text": [
      "Installing package into 'C:/Users/Kahla/AppData/Local/R/win-library/4.4'\n",
      "(as 'lib' is unspecified)\n",
      "\n",
      "also installing the dependencies 'xts', 'TTR', 'curl', 'quadprog', 'quantmod'\n",
      "\n",
      "\n"
     ]
    },
    {
     "name": "stdout",
     "output_type": "stream",
     "text": [
      "package 'xts' successfully unpacked and MD5 sums checked\n",
      "package 'TTR' successfully unpacked and MD5 sums checked\n",
      "package 'curl' successfully unpacked and MD5 sums checked\n",
      "package 'quadprog' successfully unpacked and MD5 sums checked\n",
      "package 'quantmod' successfully unpacked and MD5 sums checked\n",
      "package 'tseries' successfully unpacked and MD5 sums checked\n",
      "\n",
      "The downloaded binary packages are in\n",
      "\tC:\\Users\\Kahla\\AppData\\Local\\Temp\\RtmpcrqlKq\\downloaded_packages\n"
     ]
    },
    {
     "name": "stderr",
     "output_type": "stream",
     "text": [
      "Warning message:\n",
      "\"package 'tseries' was built under R version 4.4.2\"\n",
      "Registered S3 method overwritten by 'quantmod':\n",
      "  method            from\n",
      "  as.zoo.data.frame zoo \n",
      "\n"
     ]
    }
   ],
   "source": [
    "install.packages(\"tseries\")\n",
    "library(tseries)\n"
   ]
  },
  {
   "cell_type": "code",
   "execution_count": null,
   "metadata": {
    "vscode": {
     "languageId": "r"
    }
   },
   "outputs": [
    {
     "data": {
      "text/html": [
       "<table class=\"dataframe\">\n",
       "<caption>A data.frame: 10 × 5</caption>\n",
       "<thead>\n",
       "\t<tr><th scope=col>temp</th><th scope=col>Xt</th><th scope=col>Yt</th><th scope=col>Zt</th><th scope=col>Ht</th></tr>\n",
       "\t<tr><th scope=col>&lt;dbl&gt;</th><th scope=col>&lt;dbl&gt;</th><th scope=col>&lt;dbl&gt;</th><th scope=col>&lt;dbl&gt;</th><th scope=col>&lt;dbl&gt;</th></tr>\n",
       "</thead>\n",
       "<tbody>\n",
       "\t<tr><td>2005</td><td>10</td><td>22</td><td>15</td><td>14</td></tr>\n",
       "\t<tr><td>2006</td><td>12</td><td>13</td><td>14</td><td>13</td></tr>\n",
       "\t<tr><td>2007</td><td>16</td><td>27</td><td>18</td><td>25</td></tr>\n",
       "\t<tr><td>2008</td><td>17</td><td>15</td><td>14</td><td>15</td></tr>\n",
       "\t<tr><td>2009</td><td>19</td><td>10</td><td>16</td><td>17</td></tr>\n",
       "\t<tr><td>2010</td><td>20</td><td> 6</td><td>18</td><td>19</td></tr>\n",
       "\t<tr><td>2011</td><td>23</td><td>18</td><td>20</td><td>22</td></tr>\n",
       "\t<tr><td>2012</td><td>18</td><td> 9</td><td>22</td><td>20</td></tr>\n",
       "\t<tr><td>2013</td><td>15</td><td>17</td><td>14</td><td>16</td></tr>\n",
       "\t<tr><td>2014</td><td>11</td><td>12</td><td>16</td><td>14</td></tr>\n",
       "</tbody>\n",
       "</table>\n"
      ],
      "text/latex": [
       "A data.frame: 10 × 5\n",
       "\\begin{tabular}{lllll}\n",
       " temp & Xt & Yt & Zt & Ht\\\\\n",
       " <dbl> & <dbl> & <dbl> & <dbl> & <dbl>\\\\\n",
       "\\hline\n",
       "\t 2005 & 10 & 22 & 15 & 14\\\\\n",
       "\t 2006 & 12 & 13 & 14 & 13\\\\\n",
       "\t 2007 & 16 & 27 & 18 & 25\\\\\n",
       "\t 2008 & 17 & 15 & 14 & 15\\\\\n",
       "\t 2009 & 19 & 10 & 16 & 17\\\\\n",
       "\t 2010 & 20 &  6 & 18 & 19\\\\\n",
       "\t 2011 & 23 & 18 & 20 & 22\\\\\n",
       "\t 2012 & 18 &  9 & 22 & 20\\\\\n",
       "\t 2013 & 15 & 17 & 14 & 16\\\\\n",
       "\t 2014 & 11 & 12 & 16 & 14\\\\\n",
       "\\end{tabular}\n"
      ],
      "text/markdown": [
       "\n",
       "A data.frame: 10 × 5\n",
       "\n",
       "| temp &lt;dbl&gt; | Xt &lt;dbl&gt; | Yt &lt;dbl&gt; | Zt &lt;dbl&gt; | Ht &lt;dbl&gt; |\n",
       "|---|---|---|---|---|\n",
       "| 2005 | 10 | 22 | 15 | 14 |\n",
       "| 2006 | 12 | 13 | 14 | 13 |\n",
       "| 2007 | 16 | 27 | 18 | 25 |\n",
       "| 2008 | 17 | 15 | 14 | 15 |\n",
       "| 2009 | 19 | 10 | 16 | 17 |\n",
       "| 2010 | 20 |  6 | 18 | 19 |\n",
       "| 2011 | 23 | 18 | 20 | 22 |\n",
       "| 2012 | 18 |  9 | 22 | 20 |\n",
       "| 2013 | 15 | 17 | 14 | 16 |\n",
       "| 2014 | 11 | 12 | 16 | 14 |\n",
       "\n"
      ],
      "text/plain": [
       "   temp Xt Yt Zt Ht\n",
       "1  2005 10 22 15 14\n",
       "2  2006 12 13 14 13\n",
       "3  2007 16 27 18 25\n",
       "4  2008 17 15 14 15\n",
       "5  2009 19 10 16 17\n",
       "6  2010 20  6 18 19\n",
       "7  2011 23 18 20 22\n",
       "8  2012 18  9 22 20\n",
       "9  2013 15 17 14 16\n",
       "10 2014 11 12 16 14"
      ]
     },
     "metadata": {},
     "output_type": "display_data"
    }
   ],
   "source": [
    "# Creating the data frame\n",
    "data <- data.frame(\n",
    "  temp = c(2005, 2006, 2007, 2008, 2009, 2010, 2011, 2012, 2013, 2014),\n",
    "  Xt = c(10, 12, 16, 17, 19, 20, 23, 18, 15, 11),\n",
    "  Yt = c(22, 13, 27, 15, 10, 6, 18, 9, 17, 12),\n",
    "  Zt = c(15, 14, 18, 14, 16, 18, 20, 22, 14, 16),\n",
    "  Ht = c(14, 13, 25, 15, 17, 19, 22, 20, 16, 14)\n",
    ")\n",
    "\n",
    "data"
   ]
  },
  {
   "cell_type": "code",
   "execution_count": null,
   "metadata": {
    "vscode": {
     "languageId": "r"
    }
   },
   "outputs": [
    {
     "name": "stderr",
     "output_type": "stream",
     "text": [
      "Warning message in adf.test(data$Xt, alternative = \"stationary\"):\n",
      "\"p-value greater than printed p-value\"\n"
     ]
    },
    {
     "data": {
      "text/plain": [
       "\n",
       "\tAugmented Dickey-Fuller Test\n",
       "\n",
       "data:  data$Xt\n",
       "Dickey-Fuller = 0.85907, Lag order = 2, p-value = 0.99\n",
       "alternative hypothesis: stationary\n"
      ]
     },
     "metadata": {},
     "output_type": "display_data"
    },
    {
     "data": {
      "text/plain": [
       "\n",
       "\tAugmented Dickey-Fuller Test\n",
       "\n",
       "data:  data$Yt\n",
       "Dickey-Fuller = -1.5935, Lag order = 2, p-value = 0.7272\n",
       "alternative hypothesis: stationary\n"
      ]
     },
     "metadata": {},
     "output_type": "display_data"
    },
    {
     "data": {
      "text/plain": [
       "\n",
       "\tAugmented Dickey-Fuller Test\n",
       "\n",
       "data:  data$Zt\n",
       "Dickey-Fuller = -2.4663, Lag order = 2, p-value = 0.3947\n",
       "alternative hypothesis: stationary\n"
      ]
     },
     "metadata": {},
     "output_type": "display_data"
    },
    {
     "data": {
      "text/plain": [
       "\n",
       "\tAugmented Dickey-Fuller Test\n",
       "\n",
       "data:  data$Ht\n",
       "Dickey-Fuller = -0.92042, Lag order = 2, p-value = 0.9323\n",
       "alternative hypothesis: stationary\n"
      ]
     },
     "metadata": {},
     "output_type": "display_data"
    }
   ],
   "source": [
    "# Ditkey-Fuller test for each time series\n",
    "adf_Xt <- adf.test(data$Xt, alternative = \"stationary\")\n",
    "adf_Yt <- adf.test(data$Yt, alternative = \"stationary\")\n",
    "adf_Zt <- adf.test(data$Zt, alternative = \"stationary\")\n",
    "adf_Ht <- adf.test(data$Ht, alternative = \"stationary\")\n",
    "\n",
    "# Print the results\n",
    "adf_Xt\n",
    "adf_Yt\n",
    "adf_Zt\n",
    "adf_Ht"
   ]
  },
  {
   "cell_type": "code",
   "execution_count": 9,
   "metadata": {
    "vscode": {
     "languageId": "r"
    }
   },
   "outputs": [
    {
     "name": "stderr",
     "output_type": "stream",
     "text": [
      "Warning message in adf.test(diff(data$Yt), alternative = \"stationary\"):\n",
      "\"p-value smaller than printed p-value\"\n",
      "Warning message in adf.test(diff(data$Ht), alternative = \"stationary\"):\n",
      "\"p-value smaller than printed p-value\"\n"
     ]
    },
    {
     "data": {
      "text/plain": [
       "\n",
       "\tAugmented Dickey-Fuller Test\n",
       "\n",
       "data:  diff(data$Xt)\n",
       "Dickey-Fuller = -1.2461, Lag order = 2, p-value = 0.8596\n",
       "alternative hypothesis: stationary\n"
      ]
     },
     "metadata": {},
     "output_type": "display_data"
    },
    {
     "data": {
      "text/plain": [
       "\n",
       "\tAugmented Dickey-Fuller Test\n",
       "\n",
       "data:  diff(data$Yt)\n",
       "Dickey-Fuller = -16.081, Lag order = 2, p-value = 0.01\n",
       "alternative hypothesis: stationary\n"
      ]
     },
     "metadata": {},
     "output_type": "display_data"
    },
    {
     "data": {
      "text/plain": [
       "\n",
       "\tAugmented Dickey-Fuller Test\n",
       "\n",
       "data:  diff(data$Zt)\n",
       "Dickey-Fuller = -0.9256, Lag order = 2, p-value = 0.9315\n",
       "alternative hypothesis: stationary\n"
      ]
     },
     "metadata": {},
     "output_type": "display_data"
    },
    {
     "data": {
      "text/plain": [
       "\n",
       "\tAugmented Dickey-Fuller Test\n",
       "\n",
       "data:  diff(data$Ht)\n",
       "Dickey-Fuller = -5.4865, Lag order = 2, p-value = 0.01\n",
       "alternative hypothesis: stationary\n"
      ]
     },
     "metadata": {},
     "output_type": "display_data"
    }
   ],
   "source": [
    "adf_Xt_diff <- adf.test(diff(data$Xt), alternative = \"stationary\")\n",
    "adf_Yt_diff <- adf.test(diff(data$Yt), alternative = \"stationary\")\n",
    "adf_Zt_diff <- adf.test(diff(data$Zt), alternative = \"stationary\")\n",
    "adf_Ht_diff <- adf.test(diff(data$Ht), alternative = \"stationary\")\n",
    "\n",
    "# Print the results\n",
    "adf_Xt_diff\n",
    "adf_Yt_diff\n",
    "adf_Zt_diff\n",
    "adf_Ht_diff"
   ]
  },
  {
   "cell_type": "code",
   "execution_count": 16,
   "metadata": {
    "vscode": {
     "languageId": "r"
    }
   },
   "outputs": [
    {
     "data": {
      "text/plain": [
       "\n",
       "\tAugmented Dickey-Fuller Test\n",
       "\n",
       "data:  diff(diff(data$Xt))\n",
       "Dickey-Fuller = -2.017, Lag order = 1, p-value = 0.5659\n",
       "alternative hypothesis: stationary\n"
      ]
     },
     "metadata": {},
     "output_type": "display_data"
    },
    {
     "data": {
      "text/plain": [
       "\n",
       "\tAugmented Dickey-Fuller Test\n",
       "\n",
       "data:  diff(diff(data$Yt))\n",
       "Dickey-Fuller = -1.6553, Lag order = 1, p-value = 0.7037\n",
       "alternative hypothesis: stationary\n"
      ]
     },
     "metadata": {},
     "output_type": "display_data"
    },
    {
     "data": {
      "text/plain": [
       "\n",
       "\tAugmented Dickey-Fuller Test\n",
       "\n",
       "data:  diff(diff(data$Zt))\n",
       "Dickey-Fuller = -2.2659, Lag order = 1, p-value = 0.4711\n",
       "alternative hypothesis: stationary\n"
      ]
     },
     "metadata": {},
     "output_type": "display_data"
    },
    {
     "data": {
      "text/plain": [
       "\n",
       "\tAugmented Dickey-Fuller Test\n",
       "\n",
       "data:  diff(diff(data$Ht))\n",
       "Dickey-Fuller = -3.3455, Lag order = 1, p-value = 0.08535\n",
       "alternative hypothesis: stationary\n"
      ]
     },
     "metadata": {},
     "output_type": "display_data"
    }
   ],
   "source": [
    "adf_Xt_diff2 <- adf.test(diff(diff(data$Xt)), alternative = \"stationary\")\n",
    "adf_Yt_diff2 <- adf.test(diff(diff(data$Yt)), alternative = \"stationary\")\n",
    "adf_Zt_diff2 <- adf.test(diff(diff(data$Zt)), alternative = \"stationary\")\n",
    "adf_Ht_diff2 <- adf.test(diff(diff(data$Ht)), alternative = \"stationary\")\n",
    "\n",
    "# Print the results\n",
    "adf_Xt_diff2\n",
    "adf_Yt_diff2\n",
    "adf_Zt_diff2\n",
    "adf_Ht_diff2"
   ]
  },
  {
   "cell_type": "code",
   "execution_count": 42,
   "metadata": {
    "vscode": {
     "languageId": "r"
    }
   },
   "outputs": [
    {
     "name": "stdout",
     "output_type": "stream",
     "text": [
      "      var1       var2       var3 \n",
      "0.04416789 0.03063591 0.02010764 \n",
      "        var1       var2        var3\n",
      "1   8.778324  0.4549183  3.14660311\n",
      "2   4.060246  5.1906868  3.67456524\n",
      "3  -5.513257  1.9018173 -0.77639107\n",
      "4  -4.536916 -3.6050020 -1.11632610\n",
      "5  -3.135693 -2.4210588 -1.37984115\n",
      "6   5.493270 -1.5790918  1.00799378\n",
      "7   2.897723  3.5143362  0.23645938\n",
      "8   2.583402  1.4308751  0.60122078\n",
      "9   1.070094  1.3454019  0.18339480\n",
      "10 -2.565187  0.4665883 -0.01238299\n",
      "11  8.421528 -1.6208646  2.73225137\n",
      "12  4.173558  5.1986530  0.64135858\n"
     ]
    }
   ],
   "source": [
    "# Load the required package\n",
    "if (!require(tseries)) install.packages(\"tseries\")\n",
    "library(tseries)\n",
    "\n",
    "# Set seed for reproducibility\n",
    "set.seed(123)\n",
    "\n",
    "# Use the given values for var1 and var3\n",
    "var1 <- c(8.778324, 4.060246, -5.513257, -4.536916, -3.135693, 5.493270, 2.897723, \n",
    "          2.583402, 1.070094, -2.565187, 8.421528, 4.173558)\n",
    "var3 <- c(3.14660311, 3.67456524, -0.77639107, -1.11632610, -1.37984115, 1.00799378, \n",
    "          0.23645938, 0.60122078, 0.18339480, -0.01238299, 2.73225137, 0.64135858)\n",
    "\n",
    "# Generate a new var2 with AR(1) process and small phi to ensure stationarity\n",
    "var2 <- arima.sim(n = 12, list(ar = 0.1), sd = 3)\n",
    "\n",
    "# Combine into a data frame\n",
    "stationary_data <- data.frame(var1 = var1, var2 = var2, var3 = var3)\n",
    "\n",
    "# Verify stationarity with ADF test\n",
    "adf_results <- sapply(stationary_data, function(x) adf.test(x)$p.value)\n",
    "print(adf_results)  # Expect p-values < 0.05 for stationarity\n",
    "\n",
    "# Display the data frame\n",
    "print(stationary_data)\n"
   ]
  },
  {
   "cell_type": "code",
   "execution_count": 43,
   "metadata": {
    "vscode": {
     "languageId": "r"
    }
   },
   "outputs": [
    {
     "data": {
      "text/html": [
       "'c:/Users/Kahla/OneDrive/Documents/university-codes-and-tps/Prevision/Stationalité'"
      ],
      "text/latex": [
       "'c:/Users/Kahla/OneDrive/Documents/university-codes-and-tps/Prevision/Stationalité'"
      ],
      "text/markdown": [
       "'c:/Users/Kahla/OneDrive/Documents/university-codes-and-tps/Prevision/Stationalité'"
      ],
      "text/plain": [
       "[1] \"c:/Users/Kahla/OneDrive/Documents/university-codes-and-tps/Prevision/Stationalité\""
      ]
     },
     "metadata": {},
     "output_type": "display_data"
    }
   ],
   "source": [
    "# Export the data frame to a CSV file\n",
    "write.csv(stationary_data, \"stationary_data.csv\", row.names = FALSE)\n",
    "\n",
    "# Confirm export location if needed\n",
    "getwd()  # This shows the current working directory where the file is saved\n"
   ]
  }
 ],
 "metadata": {
  "kernelspec": {
   "display_name": "R",
   "language": "R",
   "name": "ir"
  },
  "language_info": {
   "codemirror_mode": "r",
   "file_extension": ".r",
   "mimetype": "text/x-r-source",
   "name": "R",
   "pygments_lexer": "r",
   "version": "4.4.1"
  }
 },
 "nbformat": 4,
 "nbformat_minor": 2
}
