{
 "cells": [
  {
   "cell_type": "code",
   "execution_count": 3,
   "metadata": {
    "vscode": {
     "languageId": "r"
    }
   },
   "outputs": [
    {
     "name": "stderr",
     "output_type": "stream",
     "text": [
      "Warning message:\n",
      "\"package 'urca' is in use and will not be installed\"\n"
     ]
    },
    {
     "data": {
      "text/plain": [
       "\n",
       "###################### \n",
       "# Johansen-Procedure # \n",
       "###################### \n",
       "\n",
       "Test type: maximal eigenvalue statistic (lambda max) , without linear trend and constant in cointegration \n",
       "\n",
       "Eigenvalues (lambda):\n",
       "[1]  5.719573e-01  4.353198e-01  5.719721e-02 -4.415448e-16\n",
       "\n",
       "Values of teststatistic and critical values of test:\n",
       "\n",
       "          test 10pct  5pct  1pct\n",
       "r <= 2 |  5.77  7.52  9.24 12.97\n",
       "r <= 1 | 56.01 13.75 15.67 20.20\n",
       "r = 0  | 83.16 19.77 22.00 26.81\n",
       "\n",
       "Eigenvectors, normalised to first column:\n",
       "(These are the cointegration relations)\n",
       "\n",
       "                     PIB.l2 Consommation.l2 Investissement.l2   constant\n",
       "PIB.l2              1.00000        1.000000         1.0000000   1.000000\n",
       "Consommation.l2    17.82822        9.395555        -0.4928369  -1.704114\n",
       "Investissement.l2 -24.75292      -13.383067        -0.2208757   1.734757\n",
       "constant          -70.06400        1.434654         0.2501619 -10.518876\n",
       "\n",
       "Weights W:\n",
       "(This is the loading matrix)\n",
       "\n",
       "                       PIB.l2 Consommation.l2 Investissement.l2      constant\n",
       "PIB.d            -0.009146167     0.008154434       -0.22241860  2.385236e-15\n",
       "Consommation.d   -0.016087051    -0.065097508       -0.11665359  2.357636e-14\n",
       "Investissement.d -0.010311390     0.049878526       -0.09407231 -4.568965e-15\n"
      ]
     },
     "metadata": {},
     "output_type": "display_data"
    },
    {
     "name": "stdout",
     "output_type": "stream",
     "text": [
      "[1] \"Trace statistics\"\n"
     ]
    },
    {
     "data": {
      "text/plain": [
       "     Length Class  Mode   \n",
       "rlm  12     mlm    list   \n",
       "beta  4     -none- numeric"
      ]
     },
     "metadata": {},
     "output_type": "display_data"
    }
   ],
   "source": [
    "# Installer et charger le package\n",
    "install.packages(\"urca\")\n",
    "library(urca)\n",
    "\n",
    "# Générer les données (comme ci-dessus)\n",
    "set.seed(123)\n",
    "n <- 100\n",
    "trend <- 1:n\n",
    "PIB <- 0.5 * trend + cumsum(rnorm(n, mean = 0, sd = 1))\n",
    "Consommation <- 0.4 * trend + 0.8 * PIB + rnorm(n, mean = 0, sd = 0.5)\n",
    "Investissement <- 0.3 * trend + 0.6 * PIB + rnorm(n, mean = 0, sd = 0.3)\n",
    "data <- data.frame(PIB, Consommation, Investissement)\n",
    "\n",
    "# Test de cointégration de Johansen\n",
    "coint_test <- ca.jo(data, type = \"eigen\", K = 2, ecdet = \"const\")\n",
    "summary(coint_test)\n",
    "\n",
    "print(\"Trace statistics\")\n",
    "# Estimation du VECM (si la cointégration est confirmée)\n",
    "vecm_model <- cajorls(coint_test, r = 1)  # 'r' est le nombre de relations de cointégration\n",
    "summary(vecm_model)\n"
   ]
  }
 ],
 "metadata": {
  "kernelspec": {
   "display_name": "R",
   "language": "R",
   "name": "ir"
  },
  "language_info": {
   "codemirror_mode": "r",
   "file_extension": ".r",
   "mimetype": "text/x-r-source",
   "name": "R",
   "pygments_lexer": "r",
   "version": "4.4.1"
  }
 },
 "nbformat": 4,
 "nbformat_minor": 2
}
