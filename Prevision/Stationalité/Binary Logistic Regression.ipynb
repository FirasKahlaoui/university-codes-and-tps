{
 "cells": [
  {
   "cell_type": "code",
   "execution_count": 1,
   "metadata": {
    "vscode": {
     "languageId": "r"
    }
   },
   "outputs": [
    {
     "name": "stdout",
     "output_type": "stream",
     "text": [
      "    X Y H\n",
      "1   1 1 0\n",
      "2   2 2 1\n",
      "3   3 3 1\n",
      "4   4 3 0\n",
      "5   5 3 1\n",
      "6   6 2 0\n",
      "7   7 1 0\n",
      "8   8 1 1\n",
      "9   9 2 1\n",
      "10 10 2 0\n"
     ]
    }
   ],
   "source": [
    "# Create the data\n",
    "X <- c(1, 2, 3, 4, 5, 6, 7, 8, 9, 10)\n",
    "Y <- c(1, 2, 3, 3, 3, 2, 1, 1, 2, 2)\n",
    "H <- c(0, 1, 1, 0, 1, 0, 0, 1, 1, 0)\n",
    "\n",
    "# Combine into a data frame\n",
    "data <- data.frame(X, Y, H)\n",
    "print(data)"
   ]
  },
  {
   "cell_type": "code",
   "execution_count": 3,
   "metadata": {
    "vscode": {
     "languageId": "r"
    }
   },
   "outputs": [
    {
     "data": {
      "text/plain": [
       "\n",
       "Call:\n",
       "glm(formula = H ~ X + Y, family = binomial(link = \"logit\"), data = data)\n",
       "\n",
       "Coefficients:\n",
       "             Estimate Std. Error z value Pr(>|z|)\n",
       "(Intercept) -1.447142   2.445356  -0.592    0.554\n",
       "X            0.008801   0.230071   0.038    0.969\n",
       "Y            0.699091   0.880264   0.794    0.427\n",
       "\n",
       "(Dispersion parameter for binomial family taken to be 1)\n",
       "\n",
       "    Null deviance: 13.863  on 9  degrees of freedom\n",
       "Residual deviance: 13.182  on 7  degrees of freedom\n",
       "AIC: 19.182\n",
       "\n",
       "Number of Fisher Scoring iterations: 4\n"
      ]
     },
     "metadata": {},
     "output_type": "display_data"
    }
   ],
   "source": [
    "# Fit the logit model\n",
    "logit_model <- glm(H ~ X + Y, data = data, family = binomial(link = \"logit\"))\n",
    "\n",
    "# Summarize the logit model\n",
    "summary(logit_model)"
   ]
  },
  {
   "cell_type": "code",
   "execution_count": 4,
   "metadata": {
    "vscode": {
     "languageId": "r"
    }
   },
   "outputs": [
    {
     "data": {
      "text/plain": [
       "\n",
       "Call:\n",
       "glm(formula = H ~ X + Y, family = binomial(link = \"probit\"), \n",
       "    data = data)\n",
       "\n",
       "Coefficients:\n",
       "             Estimate Std. Error z value Pr(>|z|)\n",
       "(Intercept) -0.918269   1.502146  -0.611    0.541\n",
       "X            0.007835   0.142647   0.055    0.956\n",
       "Y            0.437121   0.538289   0.812    0.417\n",
       "\n",
       "(Dispersion parameter for binomial family taken to be 1)\n",
       "\n",
       "    Null deviance: 13.863  on 9  degrees of freedom\n",
       "Residual deviance: 13.180  on 7  degrees of freedom\n",
       "AIC: 19.18\n",
       "\n",
       "Number of Fisher Scoring iterations: 4\n"
      ]
     },
     "metadata": {},
     "output_type": "display_data"
    }
   ],
   "source": [
    "# Fit the probit model\n",
    "probit_model <- glm(H ~ X + Y, data = data, family = binomial(link = \"probit\"))\n",
    "\n",
    "# Summarize the probit model\n",
    "summary(probit_model)"
   ]
  },
  {
   "cell_type": "code",
   "execution_count": 5,
   "metadata": {
    "vscode": {
     "languageId": "r"
    }
   },
   "outputs": [
    {
     "name": "stdout",
     "output_type": "stream",
     "text": [
      "[1] \"Confusion Matrix for Logit Model:\"\n",
      "         Actual\n",
      "Predicted 0 1\n",
      "        0 2 2\n",
      "        1 3 3\n",
      "[1] \"Logit Model Accuracy: 0.5\"\n"
     ]
    }
   ],
   "source": [
    "# Predict classes for the logit model\n",
    "logit_predictions <- ifelse(predict(logit_model, type = \"response\") > 0.5, 1, 0)\n",
    "\n",
    "# Create the confusion matrix for the logit model\n",
    "logit_conf_matrix <- table(Predicted = logit_predictions, Actual = data$H)\n",
    "print(\"Confusion Matrix for Logit Model:\")\n",
    "print(logit_conf_matrix)\n",
    "\n",
    "# Calculate accuracy for the logit model\n",
    "logit_accuracy <- sum(diag(logit_conf_matrix)) / sum(logit_conf_matrix)\n",
    "print(paste(\"Logit Model Accuracy:\", logit_accuracy))"
   ]
  },
  {
   "cell_type": "code",
   "execution_count": 6,
   "metadata": {
    "vscode": {
     "languageId": "r"
    }
   },
   "outputs": [
    {
     "name": "stdout",
     "output_type": "stream",
     "text": [
      "[1] \"Confusion Matrix for Probit Model:\"\n",
      "         Actual\n",
      "Predicted 0 1\n",
      "        0 2 2\n",
      "        1 3 3\n",
      "[1] \"Probit Model Accuracy: 0.5\"\n"
     ]
    }
   ],
   "source": [
    "# Predict classes for the probit model\n",
    "probit_predictions <- ifelse(predict(probit_model, type = \"response\") > 0.5, 1, 0)\n",
    "\n",
    "# Create the confusion matrix for the probit model\n",
    "probit_conf_matrix <- table(Predicted = probit_predictions, Actual = data$H)\n",
    "print(\"Confusion Matrix for Probit Model:\")\n",
    "print(probit_conf_matrix)\n",
    "\n",
    "# Calculate accuracy for the probit model\n",
    "probit_accuracy <- sum(diag(probit_conf_matrix)) / sum(probit_conf_matrix)\n",
    "print(paste(\"Probit Model Accuracy:\", probit_accuracy))"
   ]
  }
 ],
 "metadata": {
  "kernelspec": {
   "display_name": "R",
   "language": "R",
   "name": "ir"
  },
  "language_info": {
   "codemirror_mode": "r",
   "file_extension": ".r",
   "mimetype": "text/x-r-source",
   "name": "R",
   "pygments_lexer": "r",
   "version": "4.4.1"
  }
 },
 "nbformat": 4,
 "nbformat_minor": 2
}
