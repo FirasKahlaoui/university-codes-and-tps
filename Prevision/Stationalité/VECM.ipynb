{
 "cells": [
  {
   "cell_type": "code",
   "execution_count": 15,
   "metadata": {
    "vscode": {
     "languageId": "r"
    }
   },
   "outputs": [
    {
     "name": "stdout",
     "output_type": "stream",
     "text": [
      "      t    xt yt ht\n",
      "1  2005 -0.56 22 14\n",
      "2  2006  0.07 13 13\n",
      "3  2007  0.12 27 25\n",
      "4  2008  1.71 15 15\n",
      "5  2009  0.46 10 17\n",
      "6  2010 -1.26  6 19\n",
      "7  2011 -0.68 18 22\n",
      "8  2012 -0.44  9 20\n",
      "9  2013  1.22 17 16\n",
      "10 2014  0.35 12 14\n",
      "\n",
      "\tAugmented Dickey-Fuller Test\n",
      "\n",
      "data:  my_data3$xt\n",
      "Dickey-Fuller = -3.2817, Lag order = 2, p-value = 0.09421\n",
      "alternative hypothesis: stationary\n",
      "\n",
      "\n",
      "\tAugmented Dickey-Fuller Test\n",
      "\n",
      "data:  my_data3$yt\n",
      "Dickey-Fuller = -1.5935, Lag order = 2, p-value = 0.7272\n",
      "alternative hypothesis: stationary\n",
      "\n",
      "\n",
      "\tAugmented Dickey-Fuller Test\n",
      "\n",
      "data:  my_data3$ht\n",
      "Dickey-Fuller = -0.92042, Lag order = 2, p-value = 0.9323\n",
      "alternative hypothesis: stationary\n",
      "\n"
     ]
    },
    {
     "name": "stderr",
     "output_type": "stream",
     "text": [
      "Warning message in adf.test(diff(my_data3$yt, differences = 1)):\n",
      "\"p-value smaller than printed p-value\"\n",
      "Warning message in adf.test(diff(my_data3$ht, differences = 1)):\n",
      "\"p-value smaller than printed p-value\"\n"
     ]
    },
    {
     "name": "stdout",
     "output_type": "stream",
     "text": [
      "\n",
      "\tAugmented Dickey-Fuller Test\n",
      "\n",
      "data:  diff(my_data3$yt, differences = 1)\n",
      "Dickey-Fuller = -16.081, Lag order = 2, p-value = 0.01\n",
      "alternative hypothesis: stationary\n",
      "\n",
      "\n",
      "\tAugmented Dickey-Fuller Test\n",
      "\n",
      "data:  diff(my_data3$ht, differences = 1)\n",
      "Dickey-Fuller = -5.4865, Lag order = 2, p-value = 0.01\n",
      "alternative hypothesis: stationary\n",
      "\n",
      " Time-Series [1:10, 1:3] from 2005 to 2014: -0.56 0.07 0.12 1.71 0.46 -1.26 -0.68 -0.44 1.22 0.35 ...\n",
      " - attr(*, \"dimnames\")=List of 2\n",
      "  ..$ : NULL\n",
      "  ..$ : chr [1:3] \"Series 1\" \"Series 2\" \"Series 3\"\n"
     ]
    },
    {
     "data": {
      "text/html": [
       "<style>\n",
       ".list-inline {list-style: none; margin:0; padding: 0}\n",
       ".list-inline>li {display: inline-block}\n",
       ".list-inline>li:not(:last-child)::after {content: \"\\00b7\"; padding: 0 .5ex}\n",
       "</style>\n",
       "<ol class=list-inline><li>10</li><li>3</li></ol>\n"
      ],
      "text/latex": [
       "\\begin{enumerate*}\n",
       "\\item 10\n",
       "\\item 3\n",
       "\\end{enumerate*}\n"
      ],
      "text/markdown": [
       "1. 10\n",
       "2. 3\n",
       "\n",
       "\n"
      ],
      "text/plain": [
       "[1] 10  3"
      ]
     },
     "metadata": {},
     "output_type": "display_data"
    },
    {
     "name": "stderr",
     "output_type": "stream",
     "text": [
      "Warning message in log(1 - lambda[(x + 1):P]):\n",
      "\"NaNs produced\"\n"
     ]
    },
    {
     "data": {
      "text/plain": [
       "\n",
       "###################### \n",
       "# Johansen-Procedure # \n",
       "###################### \n",
       "\n",
       "Test type: trace statistic , without linear trend and constant in cointegration \n",
       "\n",
       "Eigenvalues (lambda):\n",
       "[1] 1.000000e+00 1.000000e+00 5.387050e-01 4.440892e-16\n",
       "\n",
       "Values of teststatistic and critical values of test:\n",
       "\n",
       "           test 10pct  5pct  1pct\n",
       "r <= 2 |   6.19  7.52  9.24 12.97\n",
       "r <= 1 | 264.64 17.85 19.96 24.60\n",
       "r = 0  |    NaN 32.00 34.91 41.07\n",
       "\n",
       "Eigenvectors, normalised to first column:\n",
       "(These are the cointegration relations)\n",
       "\n",
       "            Series.1.l2 Series.2.l2 Series.3.l2    constant\n",
       "Series.1.l2   1.0000000   1.0000000   1.0000000  1.00000000\n",
       "Series.2.l2  -0.1449186  -0.5006455  -0.5510036 -0.22607148\n",
       "Series.3.l2   0.1005725  -2.4631689   0.1668712 -0.01349247\n",
       "constant      0.0881667  52.9503781   4.1456667  1.50216597\n",
       "\n",
       "Weights W:\n",
       "(This is the loading matrix)\n",
       "\n",
       "           Series.1.l2 Series.2.l2 Series.3.l2      constant\n",
       "Series.1.d   -1.099328 -0.09493591   0.5762887  4.432815e-17\n",
       "Series.2.d  -10.813829  0.39807507   4.0025060 -2.718633e-15\n",
       "Series.3.d   -5.843180  0.64187443  -1.1459906 -3.908616e-16\n"
      ]
     },
     "metadata": {},
     "output_type": "display_data"
    },
    {
     "name": "stdout",
     "output_type": "stream",
     "text": [
      "$selection\n",
      "AIC(n)  HQ(n)  SC(n) FPE(n) \n",
      "     2      2      2      3 \n",
      "\n",
      "$criteria\n",
      "               1    2    3\n",
      "AIC(n)  3.535519 -Inf -Inf\n",
      "HQ(n)   2.389450 -Inf -Inf\n",
      "SC(n)   3.442794 -Inf -Inf\n",
      "FPE(n) 54.860675  NaN    0\n",
      "\n"
     ]
    },
    {
     "ename": "ERROR",
     "evalue": "Error in solve.default(Sigma): Lapack routine dgesv: system is exactly singular: U[3,3] = 0\n",
     "output_type": "error",
     "traceback": [
      "Error in solve.default(Sigma): Lapack routine dgesv: system is exactly singular: U[3,3] = 0\nTraceback:\n",
      "1. summary(var_model)",
      "2. summary.varest(var_model)",
      "3. logLik(object)",
      "4. logLik.varest(object)",
      "5. diag(resids %*% solve(Sigma) %*% t(resids))",
      "6. solve(Sigma)",
      "7. solve.default(Sigma)",
      "8. .handleSimpleError(function (cnd) \n . {\n .     watcher$capture_plot_and_output()\n .     cnd <- sanitize_call(cnd)\n .     watcher$push(cnd)\n .     switch(on_error, continue = invokeRestart(\"eval_continue\"), \n .         stop = invokeRestart(\"eval_stop\"), error = invokeRestart(\"eval_error\", \n .             cnd))\n . }, \"Lapack routine dgesv: system is exactly singular: U[3,3] = 0\", \n .     base::quote(solve.default(Sigma)))"
     ]
    }
   ],
   "source": [
    "# Step 1: Create the data frame\n",
    "my_data3 <- data.frame(\n",
    "    t = c(2005, 2006, 2007, 2008, 2009, 2010, 2011, 2012, 2013, 2014),\n",
    "    xt = c(-0.56, 0.07, 0.12, 1.71, 0.46, -1.26, -0.68, -0.44, 1.22, 0.35),\n",
    "    yt = c(22, 13, 27, 15, 10, 6, 18, 9, 17, 12),\n",
    "    ht = c(14, 13, 25, 15, 17, 19, 22, 20, 16, 14)\n",
    ")\n",
    "\n",
    "# View the data frame\n",
    "print(my_data3)\n",
    "\n",
    "# Step 2: Load necessary libraries\n",
    "if (!require(tseries)) install.packages(\"tseries\")\n",
    "if (!require(vars)) install.packages(\"vars\")\n",
    "if (!require(urca)) install.packages(\"urca\")\n",
    "if (!require(lmtest)) install.packages(\"lmtest\")\n",
    "if (!require(car)) install.packages(\"car\")\n",
    "\n",
    "library(tseries)\n",
    "library(vars)\n",
    "library(urca)\n",
    "library(lmtest)\n",
    "library(car)\n",
    "\n",
    "# Step 3: Perform ADF test for each variable\n",
    "adf_xt <- adf.test(my_data3$xt)\n",
    "adf_yt <- adf.test(my_data3$yt)\n",
    "adf_ht <- adf.test(my_data3$ht)\n",
    "\n",
    "# Print ADF results\n",
    "print(adf_xt)\n",
    "print(adf_yt)\n",
    "print(adf_ht)\n",
    "\n",
    "# Step 4: Perform ADF test for first differences (for non-stationary series)\n",
    "adf_yt1 <- adf.test(diff(my_data3$yt, differences = 1))\n",
    "adf_ht1 <- adf.test(diff(my_data3$ht, differences = 1))\n",
    "\n",
    "# Print results of ADF test for differenced series\n",
    "print(adf_yt1)\n",
    "print(adf_ht1)\n",
    "\n",
    "# Step 5: Combine variables into a time series matrix\n",
    "ts_data <- ts(cbind(my_data3$xt, my_data3$yt, my_data3$ht), start = c(2005), frequency = 1)\n",
    "\n",
    "# Check the structure of the ts_data matrix\n",
    "str(ts_data)\n",
    "dim(ts_data)\n",
    "\n",
    "# Step 6: Perform Johansen Cointegration Test\n",
    "johansen_test <- ca.jo(ts_data, type = \"trace\", K = 2, ecdet = \"const\")\n",
    "summary(johansen_test)\n",
    "\n",
    "# Step 7: Determine the optimal lag length using VARselect\n",
    "lag_selection <- VARselect(ts_data, lag.max = 3, type = \"const\")  # Adjust lag.max to a smaller value\n",
    "print(lag_selection)\n",
    "\n",
    "# Choose the optimal lag based on AIC (or another criterion)\n",
    "optimal_lag <- lag_selection$selection[\"AIC(n)\"]\n",
    "\n",
    "# Ensure the optimal lag is appropriate for the dataset size\n",
    "if (optimal_lag >= nrow(ts_data)) {\n",
    "  optimal_lag <- nrow(ts_data) - 1\n",
    "}\n",
    "\n",
    "# Step 8: Estimate the VAR model\n",
    "var_model <- VAR(ts_data, p = optimal_lag, type = \"const\")\n",
    "summary(var_model)\n",
    "\n",
    "# Step 9: Estimate the VECM (if cointegration is found)\n",
    "vecm_model <- ca.jo(ts_data, type = \"eigen\", K = 2, ecdet = \"const\")\n",
    "summary(vecm_model)\n",
    "\n",
    "# Step 10: Test for robustness\n",
    "# Check for autocorrelation using Durbin-Watson Test\n",
    "dw_test <- dwtest(var_model$varresult[[1]])\n",
    "\n",
    "# Breusch-Pagan Test for heteroscedasticity\n",
    "bp_test <- bptest(var_model$varresult[[1]])\n",
    "\n",
    "# Shapiro-Wilk Test for normality of residuals\n",
    "shapiro_test <- shapiro.test(residuals(var_model$varresult[[1]]))\n",
    "\n",
    "# Print p-values of the tests\n",
    "cat(\"Durbin-Watson Test p-value: \", dw_test$p.value, \"\\n\")\n",
    "cat(\"Breusch-Pagan Test p-value: \", bp_test$p.value, \"\\n\")\n",
    "cat(\"Shapiro-Wilk Test p-value: \", shapiro_test$p.value, \"\\n\")\n",
    "\n",
    "# Step 11: Model stability check (check for explosive roots)\n",
    "# Check for the stability of the VECM model\n",
    "vecm_stability_check <- function(model) {\n",
    "  roots <- roots(model)\n",
    "  print(roots)\n",
    "  if (any(Mod(roots) > 1)) {\n",
    "    print(\"Model is unstable (roots outside unit circle)\")\n",
    "  } else {\n",
    "    print(\"Model is stable (roots inside unit circle)\")\n",
    "  }\n",
    "}\n",
    "\n",
    "# Stability check for VECM model\n",
    "vecm_stability_check(vecm_model)"
   ]
  }
 ],
 "metadata": {
  "kernelspec": {
   "display_name": "R",
   "language": "R",
   "name": "ir"
  },
  "language_info": {
   "codemirror_mode": "r",
   "file_extension": ".r",
   "mimetype": "text/x-r-source",
   "name": "R",
   "pygments_lexer": "r",
   "version": "4.4.1"
  }
 },
 "nbformat": 4,
 "nbformat_minor": 2
}
