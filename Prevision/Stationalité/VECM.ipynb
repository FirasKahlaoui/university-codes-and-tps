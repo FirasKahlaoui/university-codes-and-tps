{
 "cells": [
  {
   "cell_type": "code",
   "execution_count": 20,
   "metadata": {
    "vscode": {
     "languageId": "r"
    }
   },
   "outputs": [
    {
     "name": "stdout",
     "output_type": "stream",
     "text": [
      "\n",
      "Time series regression with \"ts\" data:\n",
      "Start = 2, End = 10\n",
      "\n",
      "Call:\n",
      "dynlm::dynlm(formula = full_formula, data = data, start = start, \n",
      "    end = end)\n",
      "\n",
      "Residuals:\n",
      "      2       3       4       5       6       7       8       9      10 \n",
      "-0.7090  0.6351  1.1754 -2.4834  0.1794  1.5823 -2.0750 -1.2626  2.9579 \n",
      "\n",
      "Coefficients:\n",
      "             Estimate Std. Error t value Pr(>|t|)  \n",
      "(Intercept) 10.112500   9.357528   1.081   0.3590  \n",
      "L(yt, 1)     0.004385   0.201864   0.022   0.9840  \n",
      "xt           6.367093   1.440614   4.420   0.0215 *\n",
      "L(xt, 1)    -3.174659   1.284652  -2.471   0.0900 .\n",
      "ht           1.119091   0.332364   3.367   0.0435 *\n",
      "L(ht, 1)    -0.947976   0.318150  -2.980   0.0586 .\n",
      "---\n",
      "Signif. codes:  0 '***' 0.001 '**' 0.01 '*' 0.05 '.' 0.1 ' ' 1\n",
      "\n",
      "Residual standard error: 2.923 on 3 degrees of freedom\n",
      "Multiple R-squared:  0.9159,\tAdjusted R-squared:  0.7757 \n",
      "F-statistic: 6.535 on 5 and 3 DF,  p-value: 0.07663\n",
      "\n",
      "\n",
      "\tDurbin-Watson test\n",
      "\n",
      "data:  model\n",
      "DW = 2.1994, p-value = 0.4511\n",
      "alternative hypothesis: true autocorrelation is greater than 0\n",
      "\n",
      "[1] \"Breusch-Pagan Test for Heteroskedasticity:\"\n",
      "\n",
      "\tstudentized Breusch-Pagan test\n",
      "\n",
      "data:  model\n",
      "BP = 3.3228, df = 5, p-value = 0.6503\n",
      "\n",
      "[1] \"Shapiro-Wilk Test for Normality of Residuals:\"\n",
      "\n",
      "\tShapiro-Wilk normality test\n",
      "\n",
      "data:  residuals(model)\n",
      "W = 0.97507, p-value = 0.9343\n",
      "\n"
     ]
    }
   ],
   "source": [
    "# Load required libraries\n",
    "library(tseries)\n",
    "library(ARDL)\n",
    "library(lmtest)\n",
    "\n",
    "# Step 1: Create the data frame\n",
    "data <- data.frame(\n",
    "    t = c(2005, 2006, 2007, 2008, 2009, 2010, 2011, 2012, 2013, 2014),\n",
    "    xt = c(-0.56, 0.07, 0.12, 1.71, 0.46, -1.26, -0.68, -0.44, 1.22, 0.35),\n",
    "    yt = c(22, 13, 27, 15, 10, 6, 18, 9, 17, 12),\n",
    "    ht = c(14, 13, 25, 15, 17, 19, 22, 20, 16, 14)\n",
    ")\n",
    "\n",
    "# Step 2: Fit the ARDL model\n",
    "model <- ardl(yt ~ xt + ht, data, order = c(1, 1, 1))\n",
    "\n",
    "# Step 3: Print the summary of the model\n",
    "print(summary(model))\n",
    "\n",
    "# Step 4: Test robustness of the model\n",
    "\n",
    "# 4.1 Test for autocorrelation\n",
    "dw_test <- dwtest(model)\n",
    "print(dw_test)\n",
    "\n",
    "# 4.2 Test for heteroskedasticity\n",
    "bp_test <- bptest(model)\n",
    "print(\"Breusch-Pagan Test for Heteroskedasticity:\")\n",
    "print(bp_test)\n",
    "\n",
    "# 4.3 Test for normality of residuals\n",
    "shapiro_test <- shapiro.test(residuals(model))\n",
    "print(\"Shapiro-Wilk Test for Normality of Residuals:\")\n",
    "print(shapiro_test)\n",
    "\n"
   ]
  }
 ],
 "metadata": {
  "kernelspec": {
   "display_name": "R",
   "language": "R",
   "name": "ir"
  },
  "language_info": {
   "codemirror_mode": "r",
   "file_extension": ".r",
   "mimetype": "text/x-r-source",
   "name": "R",
   "pygments_lexer": "r",
   "version": "4.4.1"
  }
 },
 "nbformat": 4,
 "nbformat_minor": 2
}
