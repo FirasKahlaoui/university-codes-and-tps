{
 "cells": [
  {
   "cell_type": "code",
   "execution_count": 2,
   "metadata": {
    "vscode": {
     "languageId": "r"
    }
   },
   "outputs": [
    {
     "name": "stdout",
     "output_type": "stream",
     "text": [
      "      t    xt yt ht\n",
      "1  2005 -0.56 22 14\n",
      "2  2006  0.07 13 13\n",
      "3  2007  0.12 27 25\n",
      "4  2008  1.71 15 15\n",
      "5  2009  0.46 10 17\n",
      "6  2010 -1.26  6 19\n",
      "7  2011 -0.68 18 22\n",
      "8  2012 -0.44  9 20\n",
      "9  2013  1.22 17 16\n",
      "10 2014  0.35 12 14\n"
     ]
    }
   ],
   "source": [
    "# Create the data frame with the corrected syntax\n",
    "my_data3 <- data.frame(\n",
    "    t = c(2005, 2006, 2007, 2008, 2009, 2010, 2011, 2012, 2013, 2014),\n",
    "    xt = c(-0.56, 0.07, 0.12, 1.71, 0.46, -1.26, -0.68, -0.44, 1.22, 0.35),\n",
    "    yt = c(22,13,27,15,10,6,18,9,17,12),\n",
    "    ht = c(14,13,25,15,17,19,22,20,16,14)\n",
    ")\n",
    "\n",
    "# View the data frame\n",
    "print(my_data3)"
   ]
  },
  {
   "cell_type": "code",
   "execution_count": 3,
   "metadata": {
    "vscode": {
     "languageId": "r"
    }
   },
   "outputs": [
    {
     "name": "stdout",
     "output_type": "stream",
     "text": [
      "\n",
      "\tAugmented Dickey-Fuller Test\n",
      "\n",
      "data:  my_data3$xt\n",
      "Dickey-Fuller = -3.2817, Lag order = 2, p-value = 0.09421\n",
      "alternative hypothesis: stationary\n",
      "\n",
      "\n",
      "\tAugmented Dickey-Fuller Test\n",
      "\n",
      "data:  my_data3$yt\n",
      "Dickey-Fuller = -1.5935, Lag order = 2, p-value = 0.7272\n",
      "alternative hypothesis: stationary\n",
      "\n",
      "\n",
      "\tAugmented Dickey-Fuller Test\n",
      "\n",
      "data:  my_data3$ht\n",
      "Dickey-Fuller = -0.92042, Lag order = 2, p-value = 0.9323\n",
      "alternative hypothesis: stationary\n",
      "\n"
     ]
    }
   ],
   "source": [
    "# Load necessary library\n",
    "library(tseries)\n",
    "\n",
    "# Perform ADF test for each variable\n",
    "adf_xt <- adf.test(my_data3$xt)\n",
    "adf_yt <- adf.test(my_data3$yt)\n",
    "adf_ht <- adf.test(my_data3$ht)\n",
    "\n",
    "# Print results\n",
    "print(adf_xt)\n",
    "print(adf_yt)\n",
    "print(adf_ht)\n"
   ]
  },
  {
   "cell_type": "code",
   "execution_count": null,
   "metadata": {
    "vscode": {
     "languageId": "r"
    }
   },
   "outputs": [],
   "source": [
    "adf_xt <- adf.test(my_data3$xt)\n",
    "adf_yt <- adf.test(my_data3$yt)\n",
    "adf_ht <- adf.test(my_data3$ht)\n",
    "\n",
    "# Print results\n",
    "print(adf_xt)\n",
    "print(adf_yt)\n",
    "print(adf_ht)"
   ]
  }
 ],
 "metadata": {
  "kernelspec": {
   "display_name": "R",
   "language": "R",
   "name": "ir"
  },
  "language_info": {
   "codemirror_mode": "r",
   "file_extension": ".r",
   "mimetype": "text/x-r-source",
   "name": "R",
   "pygments_lexer": "r",
   "version": "4.4.1"
  }
 },
 "nbformat": 4,
 "nbformat_minor": 2
}
