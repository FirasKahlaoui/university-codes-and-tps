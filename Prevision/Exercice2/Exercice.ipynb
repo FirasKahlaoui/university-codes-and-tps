{
 "cells": [
  {
   "cell_type": "code",
   "execution_count": 1,
   "metadata": {
    "vscode": {
     "languageId": "r"
    }
   },
   "outputs": [
    {
     "name": "stderr",
     "output_type": "stream",
     "text": [
      "Loading required package: zoo\n",
      "\n",
      "\n",
      "Attaching package: 'zoo'\n",
      "\n",
      "\n",
      "The following objects are masked from 'package:base':\n",
      "\n",
      "    as.Date, as.Date.numeric\n",
      "\n",
      "\n"
     ]
    }
   ],
   "source": [
    "library(\"lmtest\")\n",
    "library(\"ggplot2\")"
   ]
  },
  {
   "cell_type": "code",
   "execution_count": 2,
   "metadata": {
    "vscode": {
     "languageId": "r"
    }
   },
   "outputs": [],
   "source": [
    "Y <- c(18, 15, 17, 6, 14, 3, 2, 1, 0, 13, 24, 15)\n",
    "X_1 <- c(6, 13, 25, 40, 3, 2, 5, 17, 29, 30, 33, 40)\n",
    "X_2 <- c(10, 3, 14, 2, 0, 1, 25, 30, 4, 7, 9, 10)\n",
    "X_3 <- c(11, 25, 3, 14, 6, 9, 15, 40, 45, 6, 25, 30)"
   ]
  },
  {
   "cell_type": "code",
   "execution_count": 3,
   "metadata": {
    "vscode": {
     "languageId": "r"
    }
   },
   "outputs": [],
   "source": [
    "model <- lm(Y ~ X_1 + X_2 + X_3)"
   ]
  },
  {
   "cell_type": "code",
   "execution_count": 4,
   "metadata": {
    "vscode": {
     "languageId": "r"
    }
   },
   "outputs": [
    {
     "data": {
      "text/plain": [
       "\n",
       "Call:\n",
       "lm(formula = Y ~ X_1 + X_2 + X_3)\n",
       "\n",
       "Residuals:\n",
       "    Min      1Q  Median      3Q     Max \n",
       "-9.9669 -5.7997 -0.0204  4.3132 12.5297 \n",
       "\n",
       "Coefficients:\n",
       "            Estimate Std. Error t value Pr(>|t|)  \n",
       "(Intercept) 12.72147    5.28052   2.409   0.0426 *\n",
       "X_1          0.16978    0.18322   0.927   0.3812  \n",
       "X_2         -0.09622    0.27494  -0.350   0.7354  \n",
       "X_3         -0.23951    0.19653  -1.219   0.2577  \n",
       "---\n",
       "Signif. codes:  0 '***' 0.001 '**' 0.01 '*' 0.05 '.' 0.1 ' ' 1\n",
       "\n",
       "Residual standard error: 8.115 on 8 degrees of freedom\n",
       "Multiple R-squared:  0.2351,\tAdjusted R-squared:  -0.0518 \n",
       "F-statistic: 0.8194 on 3 and 8 DF,  p-value: 0.5187\n"
      ]
     },
     "metadata": {},
     "output_type": "display_data"
    }
   ],
   "source": [
    "summary(model)"
   ]
  }
 ],
 "metadata": {
  "kernelspec": {
   "display_name": "R",
   "language": "R",
   "name": "ir"
  },
  "language_info": {
   "codemirror_mode": "r",
   "file_extension": ".r",
   "mimetype": "text/x-r-source",
   "name": "R",
   "pygments_lexer": "r",
   "version": "4.4.1"
  }
 },
 "nbformat": 4,
 "nbformat_minor": 2
}
