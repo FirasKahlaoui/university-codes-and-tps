{
 "cells": [
  {
   "cell_type": "code",
   "execution_count": 1,
   "metadata": {
    "vscode": {
     "languageId": "r"
    }
   },
   "outputs": [
    {
     "name": "stderr",
     "output_type": "stream",
     "text": [
      "Loading required package: zoo\n",
      "\n",
      "\n",
      "Attaching package: 'zoo'\n",
      "\n",
      "\n",
      "The following objects are masked from 'package:base':\n",
      "\n",
      "    as.Date, as.Date.numeric\n",
      "\n",
      "\n"
     ]
    }
   ],
   "source": [
    "library(\"lmtest\")\n",
    "library(\"ggplot2\")"
   ]
  },
  {
   "cell_type": "code",
   "execution_count": 5,
   "metadata": {
    "vscode": {
     "languageId": "r"
    }
   },
   "outputs": [],
   "source": [
    "Y <- c(18, 1.5, 17, 6, 14, 3, 2, 1, 0, 13, 24, 15)\n",
    "X_1 <- c(6, 13, 25, 40, 3, 2, 5, 17, 29, 30, 33, 40)\n",
    "X_2 <- c(10, 3, 14, 2, 0, 1, 25, 30, 4, 7, 9, 10)\n",
    "X_3 <- c(11, 25, 3, 14, 6, 9, 15, 40, 45, 6, 25, 30)"
   ]
  },
  {
   "cell_type": "code",
   "execution_count": 6,
   "metadata": {
    "vscode": {
     "languageId": "r"
    }
   },
   "outputs": [],
   "source": [
    "model <- lm(Y ~ X_1 + X_2 + X_3)"
   ]
  },
  {
   "cell_type": "code",
   "execution_count": 7,
   "metadata": {
    "vscode": {
     "languageId": "r"
    }
   },
   "outputs": [
    {
     "data": {
      "text/plain": [
       "\n",
       "Call:\n",
       "lm(formula = Y ~ X_1 + X_2 + X_3)\n",
       "\n",
       "Residuals:\n",
       "   Min     1Q Median     3Q    Max \n",
       "-9.808 -4.256 -2.335  4.301 13.258 \n",
       "\n",
       "Coefficients:\n",
       "            Estimate Std. Error t value Pr(>|t|)  \n",
       "(Intercept)  10.3829     5.1207   2.028   0.0771 .\n",
       "X_1           0.2486     0.1777   1.399   0.1993  \n",
       "X_2           0.0415     0.2666   0.156   0.8802  \n",
       "X_3          -0.3287     0.1906  -1.725   0.1228  \n",
       "---\n",
       "Signif. codes:  0 '***' 0.001 '**' 0.01 '*' 0.05 '.' 0.1 ' ' 1\n",
       "\n",
       "Residual standard error: 7.869 on 8 degrees of freedom\n",
       "Multiple R-squared:  0.3294,\tAdjusted R-squared:  0.07795 \n",
       "F-statistic:  1.31 on 3 and 8 DF,  p-value: 0.3366\n"
      ]
     },
     "metadata": {},
     "output_type": "display_data"
    }
   ],
   "source": [
    "summary(model)"
   ]
  }
 ],
 "metadata": {
  "kernelspec": {
   "display_name": "R",
   "language": "R",
   "name": "ir"
  },
  "language_info": {
   "codemirror_mode": "r",
   "file_extension": ".r",
   "mimetype": "text/x-r-source",
   "name": "R",
   "pygments_lexer": "r",
   "version": "4.4.1"
  }
 },
 "nbformat": 4,
 "nbformat_minor": 2
}
