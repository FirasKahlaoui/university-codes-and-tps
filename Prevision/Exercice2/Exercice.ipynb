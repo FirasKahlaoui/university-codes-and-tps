{
 "cells": [
  {
   "cell_type": "code",
   "execution_count": 13,
   "metadata": {
    "vscode": {
     "languageId": "r"
    }
   },
   "outputs": [
    {
     "ename": "ERROR",
     "evalue": "Error in library(\"car\"): there is no package called 'car'\n",
     "output_type": "error",
     "traceback": [
      "Error in library(\"car\"): there is no package called 'car'\nTraceback:\n",
      "1. stop(packageNotFoundError(package, lib.loc, sys.call()))"
     ]
    }
   ],
   "source": [
    "library(\"lmtest\")\n",
    "library(\"ggplot2\")"
   ]
  },
  {
   "cell_type": "code",
   "execution_count": 5,
   "metadata": {
    "vscode": {
     "languageId": "r"
    }
   },
   "outputs": [],
   "source": [
    "Y <- c(18, 1.5, 17, 6, 14, 3, 2, 1, 0, 13, 24, 15)\n",
    "X_1 <- c(6, 13, 25, 40, 3, 2, 5, 17, 29, 30, 33, 40)\n",
    "X_2 <- c(10, 3, 14, 2, 0, 1, 25, 30, 4, 7, 9, 10)\n",
    "X_3 <- c(11, 25, 3, 14, 6, 9, 15, 40, 45, 6, 25, 30)"
   ]
  },
  {
   "cell_type": "code",
   "execution_count": 6,
   "metadata": {
    "vscode": {
     "languageId": "r"
    }
   },
   "outputs": [],
   "source": [
    "model <- lm(Y ~ X_1 + X_2 + X_3)"
   ]
  },
  {
   "cell_type": "code",
   "execution_count": 7,
   "metadata": {
    "vscode": {
     "languageId": "r"
    }
   },
   "outputs": [
    {
     "data": {
      "text/plain": [
       "\n",
       "Call:\n",
       "lm(formula = Y ~ X_1 + X_2 + X_3)\n",
       "\n",
       "Residuals:\n",
       "   Min     1Q Median     3Q    Max \n",
       "-9.808 -4.256 -2.335  4.301 13.258 \n",
       "\n",
       "Coefficients:\n",
       "            Estimate Std. Error t value Pr(>|t|)  \n",
       "(Intercept)  10.3829     5.1207   2.028   0.0771 .\n",
       "X_1           0.2486     0.1777   1.399   0.1993  \n",
       "X_2           0.0415     0.2666   0.156   0.8802  \n",
       "X_3          -0.3287     0.1906  -1.725   0.1228  \n",
       "---\n",
       "Signif. codes:  0 '***' 0.001 '**' 0.01 '*' 0.05 '.' 0.1 ' ' 1\n",
       "\n",
       "Residual standard error: 7.869 on 8 degrees of freedom\n",
       "Multiple R-squared:  0.3294,\tAdjusted R-squared:  0.07795 \n",
       "F-statistic:  1.31 on 3 and 8 DF,  p-value: 0.3366\n"
      ]
     },
     "metadata": {},
     "output_type": "display_data"
    }
   ],
   "source": [
    "summary(model)"
   ]
  },
  {
   "cell_type": "code",
   "execution_count": 8,
   "metadata": {
    "vscode": {
     "languageId": "r"
    }
   },
   "outputs": [
    {
     "data": {
      "text/plain": [
       "\n",
       "\tRainbow test\n",
       "\n",
       "data:  model\n",
       "Rain = 2.2801, df1 = 6, df2 = 2, p-value = 0.3359\n"
      ]
     },
     "metadata": {},
     "output_type": "display_data"
    }
   ],
   "source": [
    "raintest(model)"
   ]
  },
  {
   "cell_type": "code",
   "execution_count": 9,
   "metadata": {
    "vscode": {
     "languageId": "r"
    }
   },
   "outputs": [
    {
     "data": {
      "text/plain": [
       "\n",
       "\tDurbin-Watson test\n",
       "\n",
       "data:  model\n",
       "DW = 2.0115, p-value = 0.4021\n",
       "alternative hypothesis: true autocorrelation is greater than 0\n"
      ]
     },
     "metadata": {},
     "output_type": "display_data"
    }
   ],
   "source": [
    "dwtest(model)"
   ]
  },
  {
   "cell_type": "code",
   "execution_count": 10,
   "metadata": {
    "vscode": {
     "languageId": "r"
    }
   },
   "outputs": [
    {
     "data": {
      "text/plain": [
       "\n",
       "\tstudentized Breusch-Pagan test\n",
       "\n",
       "data:  model\n",
       "BP = 0.97227, df = 3, p-value = 0.808\n"
      ]
     },
     "metadata": {},
     "output_type": "display_data"
    }
   ],
   "source": [
    "bptest(model)"
   ]
  },
  {
   "cell_type": "code",
   "execution_count": 11,
   "metadata": {
    "vscode": {
     "languageId": "r"
    }
   },
   "outputs": [
    {
     "data": {
      "text/plain": [
       "\n",
       "\tShapiro-Wilk normality test\n",
       "\n",
       "data:  residuals\n",
       "W = 0.94474, p-value = 0.5618\n"
      ]
     },
     "metadata": {},
     "output_type": "display_data"
    }
   ],
   "source": [
    "residuals <- residuals(model)\n",
    "\n",
    "shapiro.test(residuals)"
   ]
  },
  {
   "cell_type": "code",
   "execution_count": 15,
   "metadata": {
    "vscode": {
     "languageId": "r"
    }
   },
   "outputs": [
    {
     "name": "stderr",
     "output_type": "stream",
     "text": [
      "Loading required package: carData\n",
      "\n"
     ]
    },
    {
     "data": {
      "text/html": [
       "<style>\n",
       ".dl-inline {width: auto; margin:0; padding: 0}\n",
       ".dl-inline>dt, .dl-inline>dd {float: none; width: auto; display: inline-block}\n",
       ".dl-inline>dt::after {content: \":\\0020\"; padding-right: .5ex}\n",
       ".dl-inline>dt:not(:first-of-type) {padding-left: .5ex}\n",
       "</style><dl class=dl-inline><dt>X_1</dt><dd>1.15534074368628</dd><dt>X_2</dt><dd>1.12372712789935</dd><dt>X_3</dt><dd>1.23696752143436</dd></dl>\n"
      ],
      "text/latex": [
       "\\begin{description*}\n",
       "\\item[X\\textbackslash{}\\_1] 1.15534074368628\n",
       "\\item[X\\textbackslash{}\\_2] 1.12372712789935\n",
       "\\item[X\\textbackslash{}\\_3] 1.23696752143436\n",
       "\\end{description*}\n"
      ],
      "text/markdown": [
       "X_1\n",
       ":   1.15534074368628X_2\n",
       ":   1.12372712789935X_3\n",
       ":   1.23696752143436\n",
       "\n"
      ],
      "text/plain": [
       "     X_1      X_2      X_3 \n",
       "1.155341 1.123727 1.236968 "
      ]
     },
     "metadata": {},
     "output_type": "display_data"
    }
   ],
   "source": [
    "library(car)\n",
    "\n",
    "vif(model)"
   ]
  },
  {
   "cell_type": "markdown",
   "metadata": {},
   "source": [
    "***\"\"\"< 5***"
   ]
  },
  {
   "cell_type": "code",
   "execution_count": 17,
   "metadata": {
    "vscode": {
     "languageId": "r"
    }
   },
   "outputs": [
    {
     "data": {
      "text/html": [
       "<table class=\"dataframe\">\n",
       "<caption>A matrix: 3 × 3 of type dbl</caption>\n",
       "<thead>\n",
       "\t<tr><th></th><th scope=col>X_1</th><th scope=col>X_2</th><th scope=col>X_3</th></tr>\n",
       "</thead>\n",
       "<tbody>\n",
       "\t<tr><th scope=row>X_1</th><td> 1.0000000</td><td>-0.0938264</td><td>0.3155063</td></tr>\n",
       "\t<tr><th scope=row>X_2</th><td>-0.0938264</td><td> 1.0000000</td><td>0.2724186</td></tr>\n",
       "\t<tr><th scope=row>X_3</th><td> 0.3155063</td><td> 0.2724186</td><td>1.0000000</td></tr>\n",
       "</tbody>\n",
       "</table>\n"
      ],
      "text/latex": [
       "A matrix: 3 × 3 of type dbl\n",
       "\\begin{tabular}{r|lll}\n",
       "  & X\\_1 & X\\_2 & X\\_3\\\\\n",
       "\\hline\n",
       "\tX\\_1 &  1.0000000 & -0.0938264 & 0.3155063\\\\\n",
       "\tX\\_2 & -0.0938264 &  1.0000000 & 0.2724186\\\\\n",
       "\tX\\_3 &  0.3155063 &  0.2724186 & 1.0000000\\\\\n",
       "\\end{tabular}\n"
      ],
      "text/markdown": [
       "\n",
       "A matrix: 3 × 3 of type dbl\n",
       "\n",
       "| <!--/--> | X_1 | X_2 | X_3 |\n",
       "|---|---|---|---|\n",
       "| X_1 |  1.0000000 | -0.0938264 | 0.3155063 |\n",
       "| X_2 | -0.0938264 |  1.0000000 | 0.2724186 |\n",
       "| X_3 |  0.3155063 |  0.2724186 | 1.0000000 |\n",
       "\n"
      ],
      "text/plain": [
       "    X_1        X_2        X_3      \n",
       "X_1  1.0000000 -0.0938264 0.3155063\n",
       "X_2 -0.0938264  1.0000000 0.2724186\n",
       "X_3  0.3155063  0.2724186 1.0000000"
      ]
     },
     "metadata": {},
     "output_type": "display_data"
    }
   ],
   "source": [
    "c <- cor(cbind(X_1, X_2, X_3),cbind(X_1, X_2, X_3))\n",
    "\n",
    "c\n"
   ]
  }
 ],
 "metadata": {
  "kernelspec": {
   "display_name": "R",
   "language": "R",
   "name": "ir"
  },
  "language_info": {
   "codemirror_mode": "r",
   "file_extension": ".r",
   "mimetype": "text/x-r-source",
   "name": "R",
   "pygments_lexer": "r",
   "version": "4.4.1"
  }
 },
 "nbformat": 4,
 "nbformat_minor": 2
}
