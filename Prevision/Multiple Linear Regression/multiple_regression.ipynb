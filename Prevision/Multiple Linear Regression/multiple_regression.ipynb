{
 "cells": [
  {
   "cell_type": "markdown",
   "metadata": {},
   "source": [
    "## Load Required Libraries"
   ]
  },
  {
   "cell_type": "code",
   "execution_count": 8,
   "metadata": {
    "vscode": {
     "languageId": "r"
    }
   },
   "outputs": [
    {
     "name": "stderr",
     "output_type": "stream",
     "text": [
      "Loading required package: zoo\n",
      "\n",
      "\n",
      "Attaching package: 'zoo'\n",
      "\n",
      "\n",
      "The following objects are masked from 'package:base':\n",
      "\n",
      "    as.Date, as.Date.numeric\n",
      "\n",
      "\n"
     ]
    }
   ],
   "source": [
    "library(ggplot2)\n",
    "library(lmtest)"
   ]
  },
  {
   "cell_type": "markdown",
   "metadata": {},
   "source": [
    "## Load Data"
   ]
  },
  {
   "cell_type": "code",
   "execution_count": 3,
   "metadata": {
    "vscode": {
     "languageId": "r"
    }
   },
   "outputs": [
    {
     "data": {
      "text/html": [
       "<table class=\"dataframe\">\n",
       "<caption>A data.frame: 6 × 12</caption>\n",
       "<thead>\n",
       "\t<tr><th></th><th scope=col>model</th><th scope=col>mpg</th><th scope=col>cyl</th><th scope=col>disp</th><th scope=col>hp</th><th scope=col>drat</th><th scope=col>wt</th><th scope=col>qsec</th><th scope=col>vs</th><th scope=col>am</th><th scope=col>gear</th><th scope=col>carb</th></tr>\n",
       "\t<tr><th></th><th scope=col>&lt;chr&gt;</th><th scope=col>&lt;dbl&gt;</th><th scope=col>&lt;int&gt;</th><th scope=col>&lt;dbl&gt;</th><th scope=col>&lt;int&gt;</th><th scope=col>&lt;dbl&gt;</th><th scope=col>&lt;dbl&gt;</th><th scope=col>&lt;dbl&gt;</th><th scope=col>&lt;int&gt;</th><th scope=col>&lt;int&gt;</th><th scope=col>&lt;int&gt;</th><th scope=col>&lt;int&gt;</th></tr>\n",
       "</thead>\n",
       "<tbody>\n",
       "\t<tr><th scope=row>1</th><td>Mazda RX4        </td><td>21.0</td><td>6</td><td>160</td><td>110</td><td>3.90</td><td>2.620</td><td>16.46</td><td>0</td><td>1</td><td>4</td><td>4</td></tr>\n",
       "\t<tr><th scope=row>2</th><td>Mazda RX4 Wag    </td><td>21.0</td><td>6</td><td>160</td><td>110</td><td>3.90</td><td>2.875</td><td>17.02</td><td>0</td><td>1</td><td>4</td><td>4</td></tr>\n",
       "\t<tr><th scope=row>3</th><td>Datsun 710       </td><td>22.8</td><td>4</td><td>108</td><td> 93</td><td>3.85</td><td>2.320</td><td>18.61</td><td>1</td><td>1</td><td>4</td><td>1</td></tr>\n",
       "\t<tr><th scope=row>4</th><td>Hornet 4 Drive   </td><td>21.4</td><td>6</td><td>258</td><td>110</td><td>3.08</td><td>3.215</td><td>19.44</td><td>1</td><td>0</td><td>3</td><td>1</td></tr>\n",
       "\t<tr><th scope=row>5</th><td>Hornet Sportabout</td><td>18.7</td><td>8</td><td>360</td><td>175</td><td>3.15</td><td>3.440</td><td>17.02</td><td>0</td><td>0</td><td>3</td><td>2</td></tr>\n",
       "\t<tr><th scope=row>6</th><td>Valiant          </td><td>18.1</td><td>6</td><td>225</td><td>105</td><td>2.76</td><td>3.460</td><td>20.22</td><td>1</td><td>0</td><td>3</td><td>1</td></tr>\n",
       "</tbody>\n",
       "</table>\n"
      ],
      "text/latex": [
       "A data.frame: 6 × 12\n",
       "\\begin{tabular}{r|llllllllllll}\n",
       "  & model & mpg & cyl & disp & hp & drat & wt & qsec & vs & am & gear & carb\\\\\n",
       "  & <chr> & <dbl> & <int> & <dbl> & <int> & <dbl> & <dbl> & <dbl> & <int> & <int> & <int> & <int>\\\\\n",
       "\\hline\n",
       "\t1 & Mazda RX4         & 21.0 & 6 & 160 & 110 & 3.90 & 2.620 & 16.46 & 0 & 1 & 4 & 4\\\\\n",
       "\t2 & Mazda RX4 Wag     & 21.0 & 6 & 160 & 110 & 3.90 & 2.875 & 17.02 & 0 & 1 & 4 & 4\\\\\n",
       "\t3 & Datsun 710        & 22.8 & 4 & 108 &  93 & 3.85 & 2.320 & 18.61 & 1 & 1 & 4 & 1\\\\\n",
       "\t4 & Hornet 4 Drive    & 21.4 & 6 & 258 & 110 & 3.08 & 3.215 & 19.44 & 1 & 0 & 3 & 1\\\\\n",
       "\t5 & Hornet Sportabout & 18.7 & 8 & 360 & 175 & 3.15 & 3.440 & 17.02 & 0 & 0 & 3 & 2\\\\\n",
       "\t6 & Valiant           & 18.1 & 6 & 225 & 105 & 2.76 & 3.460 & 20.22 & 1 & 0 & 3 & 1\\\\\n",
       "\\end{tabular}\n"
      ],
      "text/markdown": [
       "\n",
       "A data.frame: 6 × 12\n",
       "\n",
       "| <!--/--> | model &lt;chr&gt; | mpg &lt;dbl&gt; | cyl &lt;int&gt; | disp &lt;dbl&gt; | hp &lt;int&gt; | drat &lt;dbl&gt; | wt &lt;dbl&gt; | qsec &lt;dbl&gt; | vs &lt;int&gt; | am &lt;int&gt; | gear &lt;int&gt; | carb &lt;int&gt; |\n",
       "|---|---|---|---|---|---|---|---|---|---|---|---|---|\n",
       "| 1 | Mazda RX4         | 21.0 | 6 | 160 | 110 | 3.90 | 2.620 | 16.46 | 0 | 1 | 4 | 4 |\n",
       "| 2 | Mazda RX4 Wag     | 21.0 | 6 | 160 | 110 | 3.90 | 2.875 | 17.02 | 0 | 1 | 4 | 4 |\n",
       "| 3 | Datsun 710        | 22.8 | 4 | 108 |  93 | 3.85 | 2.320 | 18.61 | 1 | 1 | 4 | 1 |\n",
       "| 4 | Hornet 4 Drive    | 21.4 | 6 | 258 | 110 | 3.08 | 3.215 | 19.44 | 1 | 0 | 3 | 1 |\n",
       "| 5 | Hornet Sportabout | 18.7 | 8 | 360 | 175 | 3.15 | 3.440 | 17.02 | 0 | 0 | 3 | 2 |\n",
       "| 6 | Valiant           | 18.1 | 6 | 225 | 105 | 2.76 | 3.460 | 20.22 | 1 | 0 | 3 | 1 |\n",
       "\n"
      ],
      "text/plain": [
       "  model             mpg  cyl disp hp  drat wt    qsec  vs am gear carb\n",
       "1 Mazda RX4         21.0 6   160  110 3.90 2.620 16.46 0  1  4    4   \n",
       "2 Mazda RX4 Wag     21.0 6   160  110 3.90 2.875 17.02 0  1  4    4   \n",
       "3 Datsun 710        22.8 4   108   93 3.85 2.320 18.61 1  1  4    1   \n",
       "4 Hornet 4 Drive    21.4 6   258  110 3.08 3.215 19.44 1  0  3    1   \n",
       "5 Hornet Sportabout 18.7 8   360  175 3.15 3.440 17.02 0  0  3    2   \n",
       "6 Valiant           18.1 6   225  105 2.76 3.460 20.22 1  0  3    1   "
      ]
     },
     "metadata": {},
     "output_type": "display_data"
    }
   ],
   "source": [
    "data <- read.csv(\"./data/mtcars.csv\")\n",
    "head(data)"
   ]
  },
  {
   "cell_type": "markdown",
   "metadata": {},
   "source": [
    "## Perform multiple linear regression"
   ]
  },
  {
   "cell_type": "code",
   "execution_count": 5,
   "metadata": {
    "vscode": {
     "languageId": "r"
    }
   },
   "outputs": [
    {
     "data": {
      "text/plain": [
       "\n",
       "Call:\n",
       "lm(formula = mpg ~ cyl + disp + hp + drat + wt + qsec + vs + \n",
       "    am + gear + carb, data = mtcars)\n",
       "\n",
       "Residuals:\n",
       "    Min      1Q  Median      3Q     Max \n",
       "-3.4506 -1.6044 -0.1196  1.2193  4.6271 \n",
       "\n",
       "Coefficients:\n",
       "            Estimate Std. Error t value Pr(>|t|)  \n",
       "(Intercept) 12.30337   18.71788   0.657   0.5181  \n",
       "cyl         -0.11144    1.04502  -0.107   0.9161  \n",
       "disp         0.01334    0.01786   0.747   0.4635  \n",
       "hp          -0.02148    0.02177  -0.987   0.3350  \n",
       "drat         0.78711    1.63537   0.481   0.6353  \n",
       "wt          -3.71530    1.89441  -1.961   0.0633 .\n",
       "qsec         0.82104    0.73084   1.123   0.2739  \n",
       "vs           0.31776    2.10451   0.151   0.8814  \n",
       "am           2.52023    2.05665   1.225   0.2340  \n",
       "gear         0.65541    1.49326   0.439   0.6652  \n",
       "carb        -0.19942    0.82875  -0.241   0.8122  \n",
       "---\n",
       "Signif. codes:  0 '***' 0.001 '**' 0.01 '*' 0.05 '.' 0.1 ' ' 1\n",
       "\n",
       "Residual standard error: 2.65 on 21 degrees of freedom\n",
       "Multiple R-squared:  0.869,\tAdjusted R-squared:  0.8066 \n",
       "F-statistic: 13.93 on 10 and 21 DF,  p-value: 3.793e-07\n"
      ]
     },
     "metadata": {},
     "output_type": "display_data"
    }
   ],
   "source": [
    "model <- lm(mpg ~ cyl + disp + hp + drat + wt + qsec + vs + am + gear + carb, data = mtcars)\n",
    "summary(model)"
   ]
  },
  {
   "cell_type": "markdown",
   "metadata": {},
   "source": [
    "### Interprétation des résultats :\n",
    "\n",
    "1. **(Intercept) : 12.30337**  \n",
    "   Cela représente l'ordonnée à l'origine, c'est-à-dire la valeur de `mpg` lorsque toutes les autres variables indépendantes (cyl, disp, hp, etc.) sont égales à zéro. Bien que cette valeur n'ait pas de sens pratique direct dans ce cas, elle est nécessaire pour établir l'équation de régression.\n",
    "\n",
    "2. **cyl : -0.11144**  \n",
    "   Pour chaque cylindre supplémentaire, tout le reste étant constant, la consommation de carburant (`mpg`) diminue en moyenne de 0.1114 unités. Cependant, cette relation n'est pas statistiquement significative (p = 0.9161).\n",
    "\n",
    "3. **disp : 0.01334**  \n",
    "   Pour chaque unité supplémentaire de déplacement (disp), tout le reste étant constant, la consommation de carburant (`mpg`) augmente légèrement de 0.01334. Cette relation n'est pas non plus significative (p = 0.4635).\n",
    "\n",
    "4. **hp : -0.02148**  \n",
    "   Pour chaque augmentation d'une unité de la puissance (hp), tout le reste étant constant, la consommation de carburant (`mpg`) diminue de 0.02148 unités. Cette relation n'est pas statistiquement significative (p = 0.3350).\n",
    "\n",
    "5. **drat : 0.78711**  \n",
    "   Pour chaque augmentation d'une unité du rapport de pont arrière (drat), la consommation de carburant (`mpg`) augmente de 0.78711 unités. Cependant, cela n'est pas statistiquement significatif (p = 0.6353).\n",
    "\n",
    "6. **wt : -3.71530**  \n",
    "   Pour chaque unité supplémentaire de poids (wt), la consommation de carburant (`mpg`) diminue de 3.7153 unités, ce qui montre que le poids du véhicule a une influence notable. Cette variable approche la significativité (p = 0.0633).\n",
    "\n",
    "7. **qsec : 0.82104**  \n",
    "   Pour chaque augmentation du temps d'accélération sur 1/4 de mile (qsec), la consommation de carburant (`mpg`) augmente de 0.82104 unités. Cela n'est pas statistiquement significatif (p = 0.2739).\n",
    "\n",
    "8. **vs : 0.31776**  \n",
    "   Les véhicules avec moteur en ligne (vs) ont en moyenne un `mpg` supérieur de 0.31776, mais cela n'est pas statistiquement significatif (p = 0.8814).\n",
    "\n",
    "9. **am : 2.52023**  \n",
    "   Les véhicules avec une transmission manuelle (am) ont en moyenne une meilleure consommation de 2.52023 unités de `mpg`, mais ce résultat n'est pas statistiquement significatif (p = 0.2340).\n",
    "\n",
    "10. **gear : 0.65541**  \n",
    "   Chaque augmentation du nombre de rapports de vitesse (gear) est associée à une augmentation de 0.65541 unités de `mpg`, mais cela n'est pas statistiquement significatif (p = 0.6652).\n",
    "\n",
    "11. **carb : -0.19942**  \n",
    "   Pour chaque carburateur supplémentaire (carb), la consommation de carburant (`mpg`) diminue de 0.19942 unités, mais cette relation n'est pas significative (p = 0.8122).\n",
    "\n",
    "### Signification générale :\n",
    "- **R² multiple : 0.869**  \n",
    "  Cela signifie que 86.9% de la variance dans `mpg` peut être expliquée par ce modèle de régression linéaire multiple.\n",
    "\n",
    "- **R² ajusté : 0.8066**  \n",
    "  Après ajustement pour le nombre de prédicteurs, 80.66% de la variance dans `mpg` est expliquée par le modèle.\n",
    "\n",
    "- **Erreur standard résiduelle : 2.65**  \n",
    "  L'écart-type des résidus (ou erreurs) est de 2.65, indiquant l'étendue des différences entre les valeurs prédites et les valeurs réelles.\n",
    "\n",
    "- **F-statistic : 13.93**  \n",
    "  La statistique de test F est significative (p = 3.793e-07), ce qui signifie que le modèle global est significativement meilleur que de ne pas utiliser de modèle (modèle nul).\n",
    "\n",
    "### Équation de la régression linéaire multiple :\n",
    "\n",
    "mpg = 12.30337 - 0.11144*cyl + 0.01334*disp - 0.02148*hp + 0.78711*drat - 3.71530*wt + 0.82104*qsec + 0.31776*vs + 2.52023*am + 0.65541*gear - 0.19942*carb\n"
   ]
  },
  {
   "cell_type": "markdown",
   "metadata": {},
   "source": [
    "## Test D'hypothèses"
   ]
  },
  {
   "cell_type": "markdown",
   "metadata": {},
   "source": [
    "1) **Test d'indépendance entre les variables explicatives et les résidus (Test de Rainbow)**  \n",
    "   \\( H_0 : \\) indépendance entre les variables explicatives (\\(X_1, X_2,..., X_n\\)) et les résidus (\\(e\\))  \n",
    "   \\( H_1 : \\) dépendance entre les variables explicatives (\\(X_1, X_2,..., X_n\\)) et les résidus (\\(e\\))\n"
   ]
  },
  {
   "cell_type": "code",
   "execution_count": 9,
   "metadata": {
    "vscode": {
     "languageId": "r"
    }
   },
   "outputs": [
    {
     "data": {
      "text/plain": [
       "\n",
       "\tRainbow test\n",
       "\n",
       "data:  model\n",
       "Rain = 3.8577, df1 = 16, df2 = 5, p-value = 0.0712\n"
      ]
     },
     "metadata": {},
     "output_type": "display_data"
    }
   ],
   "source": [
    "raintest(model)"
   ]
  },
  {
   "cell_type": "markdown",
   "metadata": {},
   "source": [
    "### Interprétation :\n",
    "La p-value de 0.0712 est supérieure au niveau de signification typique de 0.05. Par conséquent, nous acceptons l'hypothèse nulle (\\(H_0\\)), ce qui indique qu'il n'y a pas de preuve de dépendance entre les variables explicatives et les résidus.\n"
   ]
  },
  {
   "cell_type": "markdown",
   "metadata": {},
   "source": [
    "\n",
    "2) **Test d'autocorrélation des erreurs (Test de Durbin-Watson)**  \n",
    "   \\( H_0 : \\) pas d'autocorrélation des résidus  \n",
    "   \\( H_1 : \\) autocorrélation des résidus"
   ]
  },
  {
   "cell_type": "code",
   "execution_count": 11,
   "metadata": {
    "vscode": {
     "languageId": "r"
    }
   },
   "outputs": [
    {
     "data": {
      "text/plain": [
       "\n",
       "\tDurbin-Watson test\n",
       "\n",
       "data:  model\n",
       "DW = 1.8609, p-value = 0.1574\n",
       "alternative hypothesis: true autocorrelation is greater than 0\n"
      ]
     },
     "metadata": {},
     "output_type": "display_data"
    }
   ],
   "source": [
    "dwtest(model)"
   ]
  },
  {
   "cell_type": "markdown",
   "metadata": {},
   "source": [
    "### Interprétation :\n",
    "La statistique de Durbin-Watson de 1.8609 est proche de 2, ce qui suggère qu'il n'y a pas d'autocorrélation des résidus. De plus, la p-value de 0.1574 est supérieure au niveau de signification typique de 0.05. Par conséquent, nous acceptons l'hypothèse nulle, ce qui indique qu'il n'y a pas d'autocorrélation significative des résidus."
   ]
  },
  {
   "cell_type": "markdown",
   "metadata": {},
   "source": [
    "3) **Test d'hétéroscédasticité des résidus (Test de Breusch-Pagan)**  \n",
    "   \\( H_0 : \\) homoscédasticité des résidus  \n",
    "   \\( H_1 : \\) hétéroscédasticité des résidus"
   ]
  },
  {
   "cell_type": "code",
   "execution_count": 12,
   "metadata": {
    "vscode": {
     "languageId": "r"
    }
   },
   "outputs": [
    {
     "data": {
      "text/plain": [
       "\n",
       "\tstudentized Breusch-Pagan test\n",
       "\n",
       "data:  model\n",
       "BP = 14.914, df = 10, p-value = 0.1352\n"
      ]
     },
     "metadata": {},
     "output_type": "display_data"
    }
   ],
   "source": [
    "bptest(model)"
   ]
  },
  {
   "cell_type": "markdown",
   "metadata": {},
   "source": [
    "### Interprétation :\n",
    "Le test de Breusch-Pagan a produit une statistique BP de 14.914 avec 10 degrés de liberté. La p-value associée est de 0.1352, ce qui est supérieur au niveau de signification typique de 0.05. Par conséquent, nous acceptons l'hypothèse nulle, ce qui indique qu'il n'y a pas d'hétéroscédasticité significative des résidus. Cela suggère que la variance des résidus est constante à travers les valeurs prédites du modèle."
   ]
  },
  {
   "cell_type": "markdown",
   "metadata": {},
   "source": [
    "\n",
    "4) **Test de normalité des résidus (Test de Shapiro-Wilk)**  \n",
    "   \\( H_0 : \\) normalité des résidus  \n",
    "   \\( H_1 : \\) non normalité des résidus"
   ]
  },
  {
   "cell_type": "code",
   "execution_count": 13,
   "metadata": {
    "vscode": {
     "languageId": "r"
    }
   },
   "outputs": [
    {
     "data": {
      "text/plain": [
       "\n",
       "\tShapiro-Wilk normality test\n",
       "\n",
       "data:  residuals\n",
       "W = 0.95694, p-value = 0.2261\n"
      ]
     },
     "metadata": {},
     "output_type": "display_data"
    }
   ],
   "source": [
    "residuals <- residuals(model)\n",
    "\n",
    "shapiro.test(residuals)"
   ]
  },
  {
   "cell_type": "markdown",
   "metadata": {},
   "source": [
    "### Interprétation :\n",
    "Le test de normalité de Shapiro-Wilk a produit une statistique W de 0.95694, avec une p-value de 0.2261. Étant donné que cette p-value est supérieure au niveau de signification typique de 0.05, nous acceptons l'hypothèse nulle. Cela indique que les résidus suivent une distribution normale, ce qui est une condition importante pour la validité des résultats de la régression."
   ]
  }
 ],
 "metadata": {
  "kernelspec": {
   "display_name": "R",
   "language": "R",
   "name": "ir"
  },
  "language_info": {
   "codemirror_mode": "r",
   "file_extension": ".r",
   "mimetype": "text/x-r-source",
   "name": "R",
   "pygments_lexer": "r",
   "version": "4.4.1"
  }
 },
 "nbformat": 4,
 "nbformat_minor": 2
}
